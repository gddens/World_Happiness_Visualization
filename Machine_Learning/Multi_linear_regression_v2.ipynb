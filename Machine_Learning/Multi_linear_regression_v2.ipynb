{
 "cells": [
  {
   "cell_type": "markdown",
   "metadata": {},
   "source": [
    "### Notes:\n",
    "In v2, the full dataset has been used to train the model from https://worldhappiness.report/\n",
    "DataPanelWHR2021C2.xls, and has been filtered to remove any empty rows, all years have been used from 2008-2020"
   ]
  },
  {
   "cell_type": "code",
   "execution_count": 1,
   "metadata": {
    "slideshow": {
     "slide_type": "skip"
    }
   },
   "outputs": [],
   "source": [
    "%matplotlib inline\n",
    "import matplotlib.pyplot as plt\n",
    "from sklearn import linear_model   \n",
    "import pandas as pd\n",
    "import numpy as np"
   ]
  },
  {
   "cell_type": "code",
   "execution_count": 2,
   "metadata": {},
   "outputs": [],
   "source": [
    "file = 'Life_Ladder_All_Years_csv.csv'\n",
    "df = pd.read_csv(file)\n"
   ]
  },
  {
   "cell_type": "markdown",
   "metadata": {
    "slideshow": {
     "slide_type": "slide"
    }
   },
   "source": [
    "# Multiple Linear Regression"
   ]
  },
  {
   "cell_type": "markdown",
   "metadata": {
    "slideshow": {
     "slide_type": "subslide"
    }
   },
   "source": [
    "Multiple linear regression simply means that you have more than one feature variable.\n",
    "\n",
    "Note: The weights are how important each feature is to the equation. This is the part that the algorithm has to learn."
   ]
  },
  {
   "cell_type": "markdown",
   "metadata": {
    "slideshow": {
     "slide_type": "fragment"
    }
   },
   "source": [
    "The generic formula is:\n",
    "\n",
    "$Y_i = Bias_0 + Weight_1 Feature_1 + Weight_2 Feature_2 + \\ldots + Weight_p Feature_p$"
   ]
  },
  {
   "cell_type": "code",
   "execution_count": 3,
   "metadata": {},
   "outputs": [
    {
     "data": {
      "text/html": [
       "<div>\n",
       "<style scoped>\n",
       "    .dataframe tbody tr th:only-of-type {\n",
       "        vertical-align: middle;\n",
       "    }\n",
       "\n",
       "    .dataframe tbody tr th {\n",
       "        vertical-align: top;\n",
       "    }\n",
       "\n",
       "    .dataframe thead th {\n",
       "        text-align: right;\n",
       "    }\n",
       "</style>\n",
       "<table border=\"1\" class=\"dataframe\">\n",
       "  <thead>\n",
       "    <tr style=\"text-align: right;\">\n",
       "      <th></th>\n",
       "      <th>Country name</th>\n",
       "      <th>Life Ladder</th>\n",
       "      <th>Log GDP per capita</th>\n",
       "      <th>Social support</th>\n",
       "      <th>Healthy life expectancy at birth</th>\n",
       "      <th>Freedom to make life choices</th>\n",
       "      <th>Generosity</th>\n",
       "      <th>Perceptions of corruption</th>\n",
       "      <th>Positive affect</th>\n",
       "      <th>Negative affect</th>\n",
       "    </tr>\n",
       "  </thead>\n",
       "  <tbody>\n",
       "    <tr>\n",
       "      <th>2088</th>\n",
       "      <td>Zimbabwe</td>\n",
       "      <td>4.955</td>\n",
       "      <td>7.983</td>\n",
       "      <td>0.896</td>\n",
       "      <td>49.540</td>\n",
       "      <td>0.470</td>\n",
       "      <td>-0.103</td>\n",
       "      <td>0.859</td>\n",
       "      <td>0.669</td>\n",
       "      <td>0.177</td>\n",
       "    </tr>\n",
       "    <tr>\n",
       "      <th>2089</th>\n",
       "      <td>Zimbabwe</td>\n",
       "      <td>4.690</td>\n",
       "      <td>7.985</td>\n",
       "      <td>0.799</td>\n",
       "      <td>50.960</td>\n",
       "      <td>0.576</td>\n",
       "      <td>-0.104</td>\n",
       "      <td>0.831</td>\n",
       "      <td>0.712</td>\n",
       "      <td>0.182</td>\n",
       "    </tr>\n",
       "    <tr>\n",
       "      <th>2090</th>\n",
       "      <td>Zimbabwe</td>\n",
       "      <td>4.184</td>\n",
       "      <td>7.991</td>\n",
       "      <td>0.766</td>\n",
       "      <td>52.380</td>\n",
       "      <td>0.642</td>\n",
       "      <td>-0.074</td>\n",
       "      <td>0.820</td>\n",
       "      <td>0.725</td>\n",
       "      <td>0.239</td>\n",
       "    </tr>\n",
       "    <tr>\n",
       "      <th>2091</th>\n",
       "      <td>Zimbabwe</td>\n",
       "      <td>3.703</td>\n",
       "      <td>7.992</td>\n",
       "      <td>0.736</td>\n",
       "      <td>53.800</td>\n",
       "      <td>0.667</td>\n",
       "      <td>-0.123</td>\n",
       "      <td>0.810</td>\n",
       "      <td>0.715</td>\n",
       "      <td>0.179</td>\n",
       "    </tr>\n",
       "    <tr>\n",
       "      <th>2092</th>\n",
       "      <td>Zimbabwe</td>\n",
       "      <td>3.735</td>\n",
       "      <td>7.984</td>\n",
       "      <td>0.768</td>\n",
       "      <td>54.400</td>\n",
       "      <td>0.733</td>\n",
       "      <td>-0.095</td>\n",
       "      <td>0.724</td>\n",
       "      <td>0.738</td>\n",
       "      <td>0.209</td>\n",
       "    </tr>\n",
       "    <tr>\n",
       "      <th>2093</th>\n",
       "      <td>Zimbabwe</td>\n",
       "      <td>3.638</td>\n",
       "      <td>8.016</td>\n",
       "      <td>0.754</td>\n",
       "      <td>55.000</td>\n",
       "      <td>0.753</td>\n",
       "      <td>-0.098</td>\n",
       "      <td>0.751</td>\n",
       "      <td>0.806</td>\n",
       "      <td>0.224</td>\n",
       "    </tr>\n",
       "    <tr>\n",
       "      <th>2094</th>\n",
       "      <td>Zimbabwe</td>\n",
       "      <td>3.616</td>\n",
       "      <td>8.049</td>\n",
       "      <td>0.775</td>\n",
       "      <td>55.600</td>\n",
       "      <td>0.763</td>\n",
       "      <td>-0.068</td>\n",
       "      <td>0.844</td>\n",
       "      <td>0.710</td>\n",
       "      <td>0.212</td>\n",
       "    </tr>\n",
       "    <tr>\n",
       "      <th>2095</th>\n",
       "      <td>Zimbabwe</td>\n",
       "      <td>2.694</td>\n",
       "      <td>7.950</td>\n",
       "      <td>0.759</td>\n",
       "      <td>56.200</td>\n",
       "      <td>0.632</td>\n",
       "      <td>-0.064</td>\n",
       "      <td>0.831</td>\n",
       "      <td>0.716</td>\n",
       "      <td>0.235</td>\n",
       "    </tr>\n",
       "    <tr>\n",
       "      <th>2096</th>\n",
       "      <td>Zimbabwe</td>\n",
       "      <td>3.160</td>\n",
       "      <td>7.829</td>\n",
       "      <td>0.717</td>\n",
       "      <td>56.800</td>\n",
       "      <td>0.643</td>\n",
       "      <td>-0.009</td>\n",
       "      <td>0.789</td>\n",
       "      <td>0.703</td>\n",
       "      <td>0.346</td>\n",
       "    </tr>\n",
       "    <tr>\n",
       "      <th>2097</th>\n",
       "      <td>Zimbabwe</td>\n",
       "      <td>3.145</td>\n",
       "      <td>7.943</td>\n",
       "      <td>0.750</td>\n",
       "      <td>56.201</td>\n",
       "      <td>0.677</td>\n",
       "      <td>-0.047</td>\n",
       "      <td>0.821</td>\n",
       "      <td>NaN</td>\n",
       "      <td>NaN</td>\n",
       "    </tr>\n",
       "  </tbody>\n",
       "</table>\n",
       "</div>"
      ],
      "text/plain": [
       "     Country name  Life Ladder  Log GDP per capita  Social support  \\\n",
       "2088     Zimbabwe        4.955               7.983           0.896   \n",
       "2089     Zimbabwe        4.690               7.985           0.799   \n",
       "2090     Zimbabwe        4.184               7.991           0.766   \n",
       "2091     Zimbabwe        3.703               7.992           0.736   \n",
       "2092     Zimbabwe        3.735               7.984           0.768   \n",
       "2093     Zimbabwe        3.638               8.016           0.754   \n",
       "2094     Zimbabwe        3.616               8.049           0.775   \n",
       "2095     Zimbabwe        2.694               7.950           0.759   \n",
       "2096     Zimbabwe        3.160               7.829           0.717   \n",
       "2097     Zimbabwe        3.145               7.943           0.750   \n",
       "\n",
       "      Healthy life expectancy at birth  Freedom to make life choices  \\\n",
       "2088                            49.540                         0.470   \n",
       "2089                            50.960                         0.576   \n",
       "2090                            52.380                         0.642   \n",
       "2091                            53.800                         0.667   \n",
       "2092                            54.400                         0.733   \n",
       "2093                            55.000                         0.753   \n",
       "2094                            55.600                         0.763   \n",
       "2095                            56.200                         0.632   \n",
       "2096                            56.800                         0.643   \n",
       "2097                            56.201                         0.677   \n",
       "\n",
       "      Generosity  Perceptions of corruption  Positive affect  Negative affect  \n",
       "2088      -0.103                      0.859            0.669            0.177  \n",
       "2089      -0.104                      0.831            0.712            0.182  \n",
       "2090      -0.074                      0.820            0.725            0.239  \n",
       "2091      -0.123                      0.810            0.715            0.179  \n",
       "2092      -0.095                      0.724            0.738            0.209  \n",
       "2093      -0.098                      0.751            0.806            0.224  \n",
       "2094      -0.068                      0.844            0.710            0.212  \n",
       "2095      -0.064                      0.831            0.716            0.235  \n",
       "2096      -0.009                      0.789            0.703            0.346  \n",
       "2097      -0.047                      0.821              NaN              NaN  "
      ]
     },
     "execution_count": 3,
     "metadata": {},
     "output_type": "execute_result"
    }
   ],
   "source": [
    "df.tail(10)"
   ]
  },
  {
   "cell_type": "code",
   "execution_count": 4,
   "metadata": {},
   "outputs": [
    {
     "data": {
      "text/plain": [
       "Country name                        2098\n",
       "Life Ladder                         2098\n",
       "Log GDP per capita                  2062\n",
       "Social support                      2085\n",
       "Healthy life expectancy at birth    2043\n",
       "Freedom to make life choices        2066\n",
       "Generosity                          2009\n",
       "Perceptions of corruption           1988\n",
       "Positive affect                     1927\n",
       "Negative affect                     1933\n",
       "dtype: int64"
      ]
     },
     "execution_count": 4,
     "metadata": {},
     "output_type": "execute_result"
    }
   ],
   "source": [
    "df.count()"
   ]
  },
  {
   "cell_type": "code",
   "execution_count": 5,
   "metadata": {},
   "outputs": [
    {
     "data": {
      "text/plain": [
       "Country name                        2098\n",
       "Life Ladder                         2098\n",
       "Log GDP per capita                  2062\n",
       "Social support                      2085\n",
       "Healthy life expectancy at birth    2043\n",
       "Freedom to make life choices        2066\n",
       "Generosity                          2009\n",
       "Perceptions of corruption           1988\n",
       "Positive affect                     1927\n",
       "Negative affect                     1933\n",
       "dtype: int64"
      ]
     },
     "execution_count": 5,
     "metadata": {},
     "output_type": "execute_result"
    }
   ],
   "source": [
    "clean_data=df\n",
    "clean_data.count()"
   ]
  },
  {
   "cell_type": "code",
   "execution_count": 6,
   "metadata": {},
   "outputs": [
    {
     "data": {
      "text/plain": [
       "Country name                          0\n",
       "Life Ladder                           0\n",
       "Log GDP per capita                   36\n",
       "Social support                       13\n",
       "Healthy life expectancy at birth     55\n",
       "Freedom to make life choices         32\n",
       "Generosity                           89\n",
       "Perceptions of corruption           110\n",
       "Positive affect                     171\n",
       "Negative affect                     165\n",
       "dtype: int64"
      ]
     },
     "execution_count": 6,
     "metadata": {},
     "output_type": "execute_result"
    }
   ],
   "source": [
    "#getting the number of empty rows\n",
    "clean_data.isnull().sum()"
   ]
  },
  {
   "cell_type": "code",
   "execution_count": 7,
   "metadata": {},
   "outputs": [],
   "source": [
    "clean_data.dropna(inplace=True)"
   ]
  },
  {
   "cell_type": "code",
   "execution_count": 8,
   "metadata": {},
   "outputs": [
    {
     "data": {
      "text/html": [
       "<div>\n",
       "<style scoped>\n",
       "    .dataframe tbody tr th:only-of-type {\n",
       "        vertical-align: middle;\n",
       "    }\n",
       "\n",
       "    .dataframe tbody tr th {\n",
       "        vertical-align: top;\n",
       "    }\n",
       "\n",
       "    .dataframe thead th {\n",
       "        text-align: right;\n",
       "    }\n",
       "</style>\n",
       "<table border=\"1\" class=\"dataframe\">\n",
       "  <thead>\n",
       "    <tr style=\"text-align: right;\">\n",
       "      <th></th>\n",
       "      <th>Country name</th>\n",
       "      <th>Life Ladder</th>\n",
       "      <th>Log GDP per capita</th>\n",
       "      <th>Social support</th>\n",
       "      <th>Healthy life expectancy at birth</th>\n",
       "      <th>Freedom to make life choices</th>\n",
       "      <th>Generosity</th>\n",
       "      <th>Perceptions of corruption</th>\n",
       "      <th>Positive affect</th>\n",
       "      <th>Negative affect</th>\n",
       "    </tr>\n",
       "  </thead>\n",
       "  <tbody>\n",
       "    <tr>\n",
       "      <th>0</th>\n",
       "      <td>Afghanistan</td>\n",
       "      <td>3.724</td>\n",
       "      <td>7.370</td>\n",
       "      <td>0.451</td>\n",
       "      <td>50.80</td>\n",
       "      <td>0.718</td>\n",
       "      <td>0.168</td>\n",
       "      <td>0.882</td>\n",
       "      <td>0.518</td>\n",
       "      <td>0.258</td>\n",
       "    </tr>\n",
       "    <tr>\n",
       "      <th>1</th>\n",
       "      <td>Afghanistan</td>\n",
       "      <td>4.402</td>\n",
       "      <td>7.540</td>\n",
       "      <td>0.552</td>\n",
       "      <td>51.20</td>\n",
       "      <td>0.679</td>\n",
       "      <td>0.190</td>\n",
       "      <td>0.850</td>\n",
       "      <td>0.584</td>\n",
       "      <td>0.237</td>\n",
       "    </tr>\n",
       "    <tr>\n",
       "      <th>2</th>\n",
       "      <td>Afghanistan</td>\n",
       "      <td>4.758</td>\n",
       "      <td>7.647</td>\n",
       "      <td>0.539</td>\n",
       "      <td>51.60</td>\n",
       "      <td>0.600</td>\n",
       "      <td>0.121</td>\n",
       "      <td>0.707</td>\n",
       "      <td>0.618</td>\n",
       "      <td>0.275</td>\n",
       "    </tr>\n",
       "    <tr>\n",
       "      <th>3</th>\n",
       "      <td>Afghanistan</td>\n",
       "      <td>3.832</td>\n",
       "      <td>7.620</td>\n",
       "      <td>0.521</td>\n",
       "      <td>51.92</td>\n",
       "      <td>0.496</td>\n",
       "      <td>0.162</td>\n",
       "      <td>0.731</td>\n",
       "      <td>0.611</td>\n",
       "      <td>0.267</td>\n",
       "    </tr>\n",
       "    <tr>\n",
       "      <th>4</th>\n",
       "      <td>Afghanistan</td>\n",
       "      <td>3.783</td>\n",
       "      <td>7.705</td>\n",
       "      <td>0.521</td>\n",
       "      <td>52.24</td>\n",
       "      <td>0.531</td>\n",
       "      <td>0.236</td>\n",
       "      <td>0.776</td>\n",
       "      <td>0.710</td>\n",
       "      <td>0.268</td>\n",
       "    </tr>\n",
       "    <tr>\n",
       "      <th>5</th>\n",
       "      <td>Afghanistan</td>\n",
       "      <td>3.572</td>\n",
       "      <td>7.725</td>\n",
       "      <td>0.484</td>\n",
       "      <td>52.56</td>\n",
       "      <td>0.578</td>\n",
       "      <td>0.061</td>\n",
       "      <td>0.823</td>\n",
       "      <td>0.621</td>\n",
       "      <td>0.273</td>\n",
       "    </tr>\n",
       "    <tr>\n",
       "      <th>6</th>\n",
       "      <td>Afghanistan</td>\n",
       "      <td>3.131</td>\n",
       "      <td>7.718</td>\n",
       "      <td>0.526</td>\n",
       "      <td>52.88</td>\n",
       "      <td>0.509</td>\n",
       "      <td>0.104</td>\n",
       "      <td>0.871</td>\n",
       "      <td>0.532</td>\n",
       "      <td>0.375</td>\n",
       "    </tr>\n",
       "    <tr>\n",
       "      <th>7</th>\n",
       "      <td>Afghanistan</td>\n",
       "      <td>3.983</td>\n",
       "      <td>7.702</td>\n",
       "      <td>0.529</td>\n",
       "      <td>53.20</td>\n",
       "      <td>0.389</td>\n",
       "      <td>0.080</td>\n",
       "      <td>0.881</td>\n",
       "      <td>0.554</td>\n",
       "      <td>0.339</td>\n",
       "    </tr>\n",
       "    <tr>\n",
       "      <th>8</th>\n",
       "      <td>Afghanistan</td>\n",
       "      <td>4.220</td>\n",
       "      <td>7.697</td>\n",
       "      <td>0.559</td>\n",
       "      <td>53.00</td>\n",
       "      <td>0.523</td>\n",
       "      <td>0.042</td>\n",
       "      <td>0.793</td>\n",
       "      <td>0.565</td>\n",
       "      <td>0.348</td>\n",
       "    </tr>\n",
       "    <tr>\n",
       "      <th>9</th>\n",
       "      <td>Afghanistan</td>\n",
       "      <td>2.662</td>\n",
       "      <td>7.697</td>\n",
       "      <td>0.491</td>\n",
       "      <td>52.80</td>\n",
       "      <td>0.427</td>\n",
       "      <td>-0.121</td>\n",
       "      <td>0.954</td>\n",
       "      <td>0.496</td>\n",
       "      <td>0.371</td>\n",
       "    </tr>\n",
       "  </tbody>\n",
       "</table>\n",
       "</div>"
      ],
      "text/plain": [
       "  Country name  Life Ladder  Log GDP per capita  Social support  \\\n",
       "0  Afghanistan        3.724               7.370           0.451   \n",
       "1  Afghanistan        4.402               7.540           0.552   \n",
       "2  Afghanistan        4.758               7.647           0.539   \n",
       "3  Afghanistan        3.832               7.620           0.521   \n",
       "4  Afghanistan        3.783               7.705           0.521   \n",
       "5  Afghanistan        3.572               7.725           0.484   \n",
       "6  Afghanistan        3.131               7.718           0.526   \n",
       "7  Afghanistan        3.983               7.702           0.529   \n",
       "8  Afghanistan        4.220               7.697           0.559   \n",
       "9  Afghanistan        2.662               7.697           0.491   \n",
       "\n",
       "   Healthy life expectancy at birth  Freedom to make life choices  Generosity  \\\n",
       "0                             50.80                         0.718       0.168   \n",
       "1                             51.20                         0.679       0.190   \n",
       "2                             51.60                         0.600       0.121   \n",
       "3                             51.92                         0.496       0.162   \n",
       "4                             52.24                         0.531       0.236   \n",
       "5                             52.56                         0.578       0.061   \n",
       "6                             52.88                         0.509       0.104   \n",
       "7                             53.20                         0.389       0.080   \n",
       "8                             53.00                         0.523       0.042   \n",
       "9                             52.80                         0.427      -0.121   \n",
       "\n",
       "   Perceptions of corruption  Positive affect  Negative affect  \n",
       "0                      0.882            0.518            0.258  \n",
       "1                      0.850            0.584            0.237  \n",
       "2                      0.707            0.618            0.275  \n",
       "3                      0.731            0.611            0.267  \n",
       "4                      0.776            0.710            0.268  \n",
       "5                      0.823            0.621            0.273  \n",
       "6                      0.871            0.532            0.375  \n",
       "7                      0.881            0.554            0.339  \n",
       "8                      0.793            0.565            0.348  \n",
       "9                      0.954            0.496            0.371  "
      ]
     },
     "execution_count": 8,
     "metadata": {},
     "output_type": "execute_result"
    }
   ],
   "source": [
    "clean_data.head(10)"
   ]
  },
  {
   "cell_type": "code",
   "execution_count": 9,
   "metadata": {},
   "outputs": [
    {
     "data": {
      "text/plain": [
       "Country name                        0\n",
       "Life Ladder                         0\n",
       "Log GDP per capita                  0\n",
       "Social support                      0\n",
       "Healthy life expectancy at birth    0\n",
       "Freedom to make life choices        0\n",
       "Generosity                          0\n",
       "Perceptions of corruption           0\n",
       "Positive affect                     0\n",
       "Negative affect                     0\n",
       "dtype: int64"
      ]
     },
     "execution_count": 9,
     "metadata": {},
     "output_type": "execute_result"
    }
   ],
   "source": [
    "clean_data.isnull().sum()"
   ]
  },
  {
   "cell_type": "code",
   "execution_count": null,
   "metadata": {},
   "outputs": [],
   "source": [
    "\n",
    "\n",
    "#clean_data.to_csv('cleaned_data_all_years.csv', index=False)\n"
   ]
  },
  {
   "cell_type": "code",
   "execution_count": 10,
   "metadata": {},
   "outputs": [
    {
     "data": {
      "text/plain": [
       "Country name                        1708\n",
       "Life Ladder                         1708\n",
       "Log GDP per capita                  1708\n",
       "Social support                      1708\n",
       "Healthy life expectancy at birth    1708\n",
       "Freedom to make life choices        1708\n",
       "Generosity                          1708\n",
       "Perceptions of corruption           1708\n",
       "Positive affect                     1708\n",
       "Negative affect                     1708\n",
       "dtype: int64"
      ]
     },
     "execution_count": 10,
     "metadata": {},
     "output_type": "execute_result"
    }
   ],
   "source": [
    "clean_data.count()"
   ]
  },
  {
   "cell_type": "code",
   "execution_count": 11,
   "metadata": {},
   "outputs": [
    {
     "data": {
      "text/plain": [
       "Country name                         object\n",
       "Life Ladder                         float64\n",
       "Log GDP per capita                  float64\n",
       "Social support                      float64\n",
       "Healthy life expectancy at birth    float64\n",
       "Freedom to make life choices        float64\n",
       "Generosity                          float64\n",
       "Perceptions of corruption           float64\n",
       "Positive affect                     float64\n",
       "Negative affect                     float64\n",
       "dtype: object"
      ]
     },
     "execution_count": 11,
     "metadata": {},
     "output_type": "execute_result"
    }
   ],
   "source": [
    "clean_data.dtypes"
   ]
  },
  {
   "cell_type": "code",
   "execution_count": 12,
   "metadata": {},
   "outputs": [],
   "source": [
    "clean_data = df.drop(columns=['Country name'])"
   ]
  },
  {
   "cell_type": "markdown",
   "metadata": {},
   "source": [
    "#### Define Features, Target\n",
    "#### Split Data into Training & Test\n",
    "#### Fit the model"
   ]
  },
  {
   "cell_type": "code",
   "execution_count": 13,
   "metadata": {},
   "outputs": [],
   "source": [
    "X = clean_data.drop(columns='Life Ladder', axis=1)\n",
    "y= clean_data['Life Ladder']"
   ]
  },
  {
   "cell_type": "code",
   "execution_count": 14,
   "metadata": {},
   "outputs": [],
   "source": [
    "from sklearn.model_selection import train_test_split\n",
    "from collections import Counter\n",
    "#70% of data is for training the dataset, & 30% is for testing dataset\n",
    "X_train, X_test, y_train, y_test = train_test_split(X, y, test_size=0.3, random_state=1)\n",
    "#Counter(y_train)"
   ]
  },
  {
   "cell_type": "code",
   "execution_count": null,
   "metadata": {},
   "outputs": [],
   "source": []
  },
  {
   "cell_type": "markdown",
   "metadata": {},
   "source": [
    "### Implement a linear model:"
   ]
  },
  {
   "cell_type": "code",
   "execution_count": 15,
   "metadata": {},
   "outputs": [
    {
     "data": {
      "text/plain": [
       "LinearRegression()"
      ]
     },
     "execution_count": 15,
     "metadata": {},
     "output_type": "execute_result"
    }
   ],
   "source": [
    "from sklearn.linear_model import LinearRegression\n",
    "model = LinearRegression()\n",
    "# Fitting our model with all our features in X\n",
    "model.fit(X_train, y_train)"
   ]
  },
  {
   "cell_type": "markdown",
   "metadata": {},
   "source": [
    "#### Model equation $y_i = \\beta_0 + \\beta_1x_{i1} + \\beta_2 x_{i2} + \\ldots + \\beta_p x_{ip} + \\epsilon $\n",
    "#### $y_i = dependent variable $\n",
    "#### $x_i = expanatory variables $\n",
    "#### $\\beta_0 = y-intercept $\n",
    "#### $\\beta_p = slope coefficient for each explanatory variable $\n",
    "#### $\\epsilon = the models error term (also known as residuals $\n",
    "\n",
    " source: https://www.c-sharpcorner.com/article/multiple-linear-regression/"
   ]
  },
  {
   "cell_type": "code",
   "execution_count": 16,
   "metadata": {},
   "outputs": [
    {
     "name": "stdout",
     "output_type": "stream",
     "text": [
      "Intercept:  -2.918000282662983\n",
      "Coefficients:\n"
     ]
    },
    {
     "data": {
      "text/plain": [
       "[('Log GDP per capita', 0.40974577951707497),\n",
       " ('Social support', 1.8560230911797295),\n",
       " ('Healthy life expectancy at birth', 0.024935227513056303),\n",
       " ('Freedom to make life choices', 0.3957873926168737),\n",
       " ('Generosity', 0.2816472373648208),\n",
       " ('Perceptions of corruption', -0.6780913601960373),\n",
       " ('Positive affect', 2.225376527088204),\n",
       " ('Negative affect', 0.3598311704931134)]"
      ]
     },
     "execution_count": 16,
     "metadata": {},
     "output_type": "execute_result"
    }
   ],
   "source": [
    "print(\"Intercept: \", model.intercept_)\n",
    "print(\"Coefficients:\")\n",
    "list(zip(X, model.coef_))"
   ]
  },
  {
   "cell_type": "markdown",
   "metadata": {},
   "source": [
    "##### Regression Equation: \n",
    " Happiness_Ladder = -2.92 +(0.41*Log_GDP_percapita)+(1.86*Social_support)+(0.02*Healthy _life_expectancy_at_birth)+ (0.4*Freedom_to_make_life_choices)+(0.28*Generosity)+(-0.6.78*Perceptions_of_corruption)+(2.23*Positive_affect)+(0.36*Negative_affect) + e\n",
    " \n",
    " "
   ]
  },
  {
   "cell_type": "code",
   "execution_count": 17,
   "metadata": {},
   "outputs": [
    {
     "name": "stdout",
     "output_type": "stream",
     "text": [
      "Prediction for test set: [5.33469612 4.37016864 5.70002827 7.24458937 4.95316689 5.50264869\n",
      " 5.73815866 6.50567583 7.09296143 7.44904398 7.0239232  4.54128857\n",
      " 5.23312066 6.77687123 5.70135161 3.34348135 4.57168624 5.68204231\n",
      " 5.31485017 4.81155551 6.72474196 5.3504291  7.17666004 4.31974114\n",
      " 5.34150743 6.10857207 5.65283675 5.30238742 6.23124771 7.32368094\n",
      " 5.38810034 6.15503319 7.24114909 4.15265339 5.54390331 4.45696498\n",
      " 6.24131096 6.21704696 6.19865391 5.65787893 4.21626931 3.99658947\n",
      " 6.13904217 6.44642902 4.05314466 6.31042369 4.24526519 3.82464004\n",
      " 5.57931308 4.46071547 5.00323628 5.07176085 5.60821637 2.18210699\n",
      " 5.40652445 5.51404986 5.60853877 6.1086466  4.79617639 6.06966554\n",
      " 7.2181999  3.57789569 5.49674205 3.27914474 6.457309   3.78074001\n",
      " 4.17695004 5.26546935 5.99894236 5.60206858 3.7271498  5.98491991\n",
      " 6.0037758  4.03073802 6.94962241 7.19271334 5.18172631 5.96612175\n",
      " 5.73964415 4.71561559 5.64767258 6.02993278 4.54415412 5.51672074\n",
      " 4.57931432 7.15612832 7.16853924 3.87698977 5.64633832 5.69865304\n",
      " 4.42399674 3.98075146 4.90452041 5.20706807 4.73373512 5.64209232\n",
      " 5.42209445 6.64295648 5.65324254 5.94757752 3.61656158 6.79975043\n",
      " 4.62771016 4.49233644 4.84390336 6.01587109 3.54478019 4.53979673\n",
      " 5.36750255 4.7644852  4.27459301 5.61624085 3.81780742 7.41340846\n",
      " 5.81936772 3.96005955 7.17063471 5.57698299 5.27431215 7.19322091\n",
      " 6.79154077 7.21672357 5.05378865 6.23862461 5.66110889 5.26097554\n",
      " 5.77004236 7.31705693 7.06886561 5.7183141  7.16644246 3.65855548\n",
      " 5.63539682 4.62276124 6.53277113 5.03208922 4.70283652 4.03659104\n",
      " 4.16515054 5.57716899 6.00232137 6.65788144 4.89384432 4.20524216\n",
      " 5.56542382 6.34302731 4.65752453 5.0561342  5.64343376 5.84863539\n",
      " 5.24356292 5.17271917 6.29309512 6.56505328 5.74446709 5.87839286\n",
      " 6.0572495  4.42029832 3.6679202  3.66316448 3.6045558  5.95827596\n",
      " 3.90296901 6.85547138 5.95805222 4.98278421 6.19661938 4.55731359\n",
      " 3.80860668 5.78349439 3.57704282 6.61668788 5.8348281  5.13005431\n",
      " 5.90588254 5.06718926 4.51088491 5.45831296 5.92535131 5.9957159\n",
      " 6.61135584 4.83743822 5.56253652 5.39214909 3.18459907 4.82197767\n",
      " 7.18429679 5.45338299 5.36849461 4.34570861 4.67508162 4.44068687\n",
      " 6.34218919 3.75663246 6.21945166 3.63765252 5.3115581  7.08222607\n",
      " 4.81513934 4.62390099 6.05233529 7.18113371 4.63825926 5.5648851\n",
      " 5.62711517 6.81597375 4.28837164 6.20011546 5.54070976 6.17426405\n",
      " 4.97775511 6.6543621  5.93444643 5.82161381 4.48728368 4.43535463\n",
      " 4.37628359 5.20865389 5.32346794 7.37886619 5.85387211 7.02401965\n",
      " 4.73348645 6.91939675 5.32929317 5.49966217 7.2652336  6.35180061\n",
      " 6.27277675 6.29188427 5.87154778 6.09206747 3.98244324 4.14780936\n",
      " 6.84532378 4.41515338 5.40573632 4.63150885 5.33097279 4.86054421\n",
      " 5.51906216 4.18575788 4.78599903 4.81059159 4.85151385 7.3164137\n",
      " 5.7501176  7.14618452 5.11963201 6.42514551 3.76000552 4.85428531\n",
      " 4.78842485 4.49034175 6.34585281 3.59404466 5.69055181 7.2172904\n",
      " 4.60465064 5.10950204 3.1818928  6.0661484  4.4981057  4.72839228\n",
      " 5.24359442 6.53526551 6.28298521 7.18599838 4.92362039 5.26215928\n",
      " 5.19344734 5.47980013 3.91591075 5.890158   6.18477947 7.31738756\n",
      " 4.71570167 4.76971866 5.5267611  4.71894298 4.82088283 5.25183301\n",
      " 3.38089775 5.35671759 5.70053572 5.58594364 7.23630557 5.73730448\n",
      " 4.29889245 7.15293922 5.34401603 5.37693562 4.96562328 4.92308696\n",
      " 5.94608908 5.24074384 6.084372   2.89501574 6.28231914 4.00776355\n",
      " 4.7615929  4.35997023 5.38506908 5.96423659 5.30095028 5.4961992\n",
      " 4.91527664 3.91086053 4.48334368 4.79403011 5.92621028 5.12415647\n",
      " 5.81037325 6.62774492 4.63756457 3.99499652 6.20747974 4.64568666\n",
      " 5.03892686 6.03589671 6.53767152 5.54654866 5.59581859 4.50181914\n",
      " 4.85298957 5.42629929 6.4167781  3.35149512 4.62999632 5.29217432\n",
      " 5.57341367 7.19865997 6.11237128 5.77219596 7.01202788 6.12564934\n",
      " 5.07497666 5.1453944  5.28345022 4.11679047 5.11991678 5.8124047\n",
      " 4.41676072 4.62427226 6.70897604 4.13004586 4.46120178 5.53852737\n",
      " 5.53130821 7.00445828 3.89295491 4.49707345 5.56039079 5.1934877\n",
      " 6.3053117  6.77395931 2.91516473 5.81004168 5.79223996 5.91324052\n",
      " 7.13685358 5.71210486 6.91506688 5.40433829 5.73223595 3.43519963\n",
      " 6.21834056 6.71036844 6.80298716 3.45326898 5.75329529 7.26524817\n",
      " 3.7337576  5.49388081 5.32249282 7.28629098 6.19796454 4.26240397\n",
      " 6.21291423 5.92807549 3.69178244 6.23705047 3.81264822 5.25099063\n",
      " 5.34608896 7.2352571  6.15511553 4.47868672 6.77526814 4.22092964\n",
      " 4.11527669 7.27721408 4.03752773 5.41326214 7.25469523 7.19459613\n",
      " 6.05241093 6.08743927 5.86256037 5.48643291 5.42617196 5.72674995\n",
      " 4.46675002 5.56656259 7.28076794 5.77804172 4.8097208  6.8423297\n",
      " 5.99504685 5.97221105 5.67325124 7.20923676 4.55204174 4.11824397\n",
      " 4.44624823 6.4502583  5.92360603 5.47461041 6.10397462 6.09388099\n",
      " 4.10747778 5.91383994 6.40174207 6.23132631 5.60328214 4.20642274\n",
      " 5.89438295 5.0028672  5.45863851 5.53583925 3.89087016 5.87997374\n",
      " 5.69131449 2.79837908 5.62006456 4.92774241 4.69348418 6.77212347\n",
      " 5.3406412  5.54523775 7.04178116 5.80007961 3.7413004  4.48911668\n",
      " 3.64239356 5.28692978 5.97017378 4.57468184 5.28734966 6.56381644\n",
      " 6.02272693 5.08552113 4.61941628 4.37805166 3.95210778 7.26058859\n",
      " 5.86752962 6.02512329 6.48256638 5.37104418 5.14670985 5.9405884\n",
      " 6.9019205  5.71153183 5.51277662 5.01615044 5.32509432 5.63008361\n",
      " 5.5155868  5.77000514 4.3998838  6.40815266 7.13839012 4.21381449\n",
      " 5.34559049 4.7208874  4.99499658 5.17038309 6.74198709 5.76850177\n",
      " 6.68448609 5.09732906 7.15793959 5.88847781 6.8571655  5.5421858\n",
      " 4.97383299 4.30616453 7.18512532 4.39262708 7.273074   3.67366755\n",
      " 5.87982365 6.08946344 5.82406932 5.33123177 6.00539457 5.80700285\n",
      " 7.4172542  6.30425648 5.72325394 5.95700669 5.32793133 7.02791793\n",
      " 5.77695699 6.27879031 4.65626918 6.16781583 5.28754947 4.90147111\n",
      " 3.55672254 4.12961797 4.03513709]\n"
     ]
    }
   ],
   "source": [
    "y_pred = model.predict(X_test)\n",
    "print(\"Prediction for test set: {}\".format(y_pred))"
   ]
  },
  {
   "cell_type": "code",
   "execution_count": null,
   "metadata": {},
   "outputs": [],
   "source": []
  },
  {
   "cell_type": "code",
   "execution_count": 18,
   "metadata": {},
   "outputs": [],
   "source": [
    "results = pd.DataFrame( {\"Actual value\": y_test, \"Predicted value\": y_pred}).reset_index(drop=True)"
   ]
  },
  {
   "cell_type": "code",
   "execution_count": 19,
   "metadata": {},
   "outputs": [
    {
     "data": {
      "text/html": [
       "<div>\n",
       "<style scoped>\n",
       "    .dataframe tbody tr th:only-of-type {\n",
       "        vertical-align: middle;\n",
       "    }\n",
       "\n",
       "    .dataframe tbody tr th {\n",
       "        vertical-align: top;\n",
       "    }\n",
       "\n",
       "    .dataframe thead th {\n",
       "        text-align: right;\n",
       "    }\n",
       "</style>\n",
       "<table border=\"1\" class=\"dataframe\">\n",
       "  <thead>\n",
       "    <tr style=\"text-align: right;\">\n",
       "      <th></th>\n",
       "      <th>Actual value</th>\n",
       "      <th>Predicted value</th>\n",
       "    </tr>\n",
       "  </thead>\n",
       "  <tbody>\n",
       "    <tr>\n",
       "      <th>0</th>\n",
       "      <td>5.389</td>\n",
       "      <td>5.334696</td>\n",
       "    </tr>\n",
       "    <tr>\n",
       "      <th>1</th>\n",
       "      <td>3.512</td>\n",
       "      <td>4.370169</td>\n",
       "    </tr>\n",
       "    <tr>\n",
       "      <th>2</th>\n",
       "      <td>4.730</td>\n",
       "      <td>5.700028</td>\n",
       "    </tr>\n",
       "    <tr>\n",
       "      <th>3</th>\n",
       "      <td>7.239</td>\n",
       "      <td>7.244589</td>\n",
       "    </tr>\n",
       "    <tr>\n",
       "      <th>4</th>\n",
       "      <td>4.349</td>\n",
       "      <td>4.953167</td>\n",
       "    </tr>\n",
       "    <tr>\n",
       "      <th>5</th>\n",
       "      <td>5.559</td>\n",
       "      <td>5.502649</td>\n",
       "    </tr>\n",
       "    <tr>\n",
       "      <th>6</th>\n",
       "      <td>5.772</td>\n",
       "      <td>5.738159</td>\n",
       "    </tr>\n",
       "    <tr>\n",
       "      <th>7</th>\n",
       "      <td>6.417</td>\n",
       "      <td>6.505676</td>\n",
       "    </tr>\n",
       "    <tr>\n",
       "      <th>8</th>\n",
       "      <td>7.109</td>\n",
       "      <td>7.092961</td>\n",
       "    </tr>\n",
       "    <tr>\n",
       "      <th>9</th>\n",
       "      <td>6.375</td>\n",
       "      <td>7.449044</td>\n",
       "    </tr>\n",
       "    <tr>\n",
       "      <th>10</th>\n",
       "      <td>7.385</td>\n",
       "      <td>7.023923</td>\n",
       "    </tr>\n",
       "    <tr>\n",
       "      <th>11</th>\n",
       "      <td>4.432</td>\n",
       "      <td>4.541289</td>\n",
       "    </tr>\n",
       "    <tr>\n",
       "      <th>12</th>\n",
       "      <td>5.097</td>\n",
       "      <td>5.233121</td>\n",
       "    </tr>\n",
       "    <tr>\n",
       "      <th>13</th>\n",
       "      <td>6.883</td>\n",
       "      <td>6.776871</td>\n",
       "    </tr>\n",
       "    <tr>\n",
       "      <th>14</th>\n",
       "      <td>5.374</td>\n",
       "      <td>5.701352</td>\n",
       "    </tr>\n",
       "  </tbody>\n",
       "</table>\n",
       "</div>"
      ],
      "text/plain": [
       "    Actual value  Predicted value\n",
       "0          5.389         5.334696\n",
       "1          3.512         4.370169\n",
       "2          4.730         5.700028\n",
       "3          7.239         7.244589\n",
       "4          4.349         4.953167\n",
       "5          5.559         5.502649\n",
       "6          5.772         5.738159\n",
       "7          6.417         6.505676\n",
       "8          7.109         7.092961\n",
       "9          6.375         7.449044\n",
       "10         7.385         7.023923\n",
       "11         4.432         4.541289\n",
       "12         5.097         5.233121\n",
       "13         6.883         6.776871\n",
       "14         5.374         5.701352"
      ]
     },
     "execution_count": 19,
     "metadata": {},
     "output_type": "execute_result"
    }
   ],
   "source": [
    "results.head(15)"
   ]
  },
  {
   "cell_type": "code",
   "execution_count": null,
   "metadata": {},
   "outputs": [],
   "source": []
  },
  {
   "cell_type": "code",
   "execution_count": 20,
   "metadata": {},
   "outputs": [
    {
     "name": "stdout",
     "output_type": "stream",
     "text": [
      "R-squared: (R2) 76.993\n",
      "Mean Absolute Error: 0.424\n",
      "Mean Square Error:(MSE) 0.308\n",
      "Root Mean Square Error:0.555\n",
      "Model Intercept:-2.918\n",
      "Model coefficients: [ 0.40974578  1.85602309  0.02493523  0.39578739  0.28164724 -0.67809136\n",
      "  2.22537653  0.35983117]\n"
     ]
    }
   ],
   "source": [
    "#Model Evaluation\n",
    "from sklearn import metrics\n",
    "meanAbErr = metrics.mean_absolute_error(y_test, y_pred)\n",
    "meanSqErr = metrics.mean_squared_error(y_test, y_pred)\n",
    "rootMeanSqErr = np.sqrt(metrics.mean_squared_error(y_test, y_pred))\n",
    "\n",
    "print('R-squared: (R2) {:.3f}'.format(model.score(X,y)*100))\n",
    "print('Mean Absolute Error: {:.3f}'.format(meanAbErr))\n",
    "print('Mean Square Error:(MSE) {:.3f}'.format(meanSqErr))\n",
    "print('Root Mean Square Error:{:.3f}'.format(rootMeanSqErr))\n",
    "print('Model Intercept:{:.3f}'.format(model.intercept_))\n",
    "print('Model coefficients:', model.coef_)"
   ]
  },
  {
   "cell_type": "markdown",
   "metadata": {},
   "source": [
    "#### Try the machine model with some inputs:"
   ]
  },
  {
   "cell_type": "code",
   "execution_count": 21,
   "metadata": {},
   "outputs": [],
   "source": [
    "# Format the any numpy array to 3 decimal points\n",
    "np.set_printoptions(formatter={'float':\"{0:0.3f}\".format})\n",
    "\n",
    "# Try the model with feature values where we know the output\n",
    "user_input=np.array([7.647,0.539,51.6,0.6,0.121,0.707,0.618,0.275])\n",
    "user_input=user_input.reshape(1,-1)"
   ]
  },
  {
   "cell_type": "code",
   "execution_count": 22,
   "metadata": {},
   "outputs": [
    {
     "data": {
      "text/plain": [
       "(1, 8)"
      ]
     },
     "execution_count": 22,
     "metadata": {},
     "output_type": "execute_result"
    }
   ],
   "source": [
    "user_input.shape"
   ]
  },
  {
   "cell_type": "code",
   "execution_count": 23,
   "metadata": {},
   "outputs": [
    {
     "data": {
      "text/plain": [
       "array([3.769])"
      ]
     },
     "execution_count": 23,
     "metadata": {},
     "output_type": "execute_result"
    }
   ],
   "source": [
    "user_predict=model.predict(user_input)\n",
    "user_predict"
   ]
  },
  {
   "cell_type": "code",
   "execution_count": 24,
   "metadata": {},
   "outputs": [
    {
     "name": "stdout",
     "output_type": "stream",
     "text": [
      "The real Life_Ladder is 4.758, compared to the predicted Life_Ladder: [3.769]\n"
     ]
    }
   ],
   "source": [
    "# checking the model against a Life_Ladder score that is known:\n",
    "print(f'The real Life_Ladder is 4.758, compared to the predicted Life_Ladder: {user_predict}')"
   ]
  },
  {
   "attachments": {
    "image.png": {
     "image/png": "[encoded data removed]"
    }
   },
   "cell_type": "markdown",
   "metadata": {},
   "source": [
    "## Result interpretation:\n",
    "#### <ins><b> R squared:</b></ins> Coefficient of determination: Shows how many points fall on the regression line. Here the value is 75.90%\n",
    "#### <ins><b> Mean Absolute Error:</b></ins> Absolute difference between the actual and the predicted values, 0.44 is close to 0, which is good\n",
    "#### <ins><b> Mean Square Error:</b></ins> descibes how close a regression line is to a set of points, by taking the distances from the point to the regression line and squaring them, 0.32 is close to 0, which indicates the model performance is good\n",
    " ![image.png](attachment:image.png)\n",
    "#### <ins><b> Root Mean Square Error:</b></ins> is an applied measure of the differences between numbers(population values and samples) which is predicted by an estimator. It describes the sample standard deviation of the differences between the predicted and observed values. 0.57 means that the model's performance is good"
   ]
  },
  {
   "cell_type": "markdown",
   "metadata": {
    "slideshow": {
     "slide_type": "slide"
    }
   },
   "source": [
    "## Residuals"
   ]
  },
  {
   "cell_type": "markdown",
   "metadata": {
    "slideshow": {
     "slide_type": "fragment"
    }
   },
   "source": [
    "Because we can't easily plot our line in 3D space, we can use a residual plot to check our predictions."
   ]
  },
  {
   "cell_type": "markdown",
   "metadata": {
    "slideshow": {
     "slide_type": "fragment"
    }
   },
   "source": [
    "Residuals are the difference between the true values of y and the predicted values of y.\n",
    "\n",
    "Source: [Interpreting Residual Plots](http://docs.statwing.com/interpreting-residual-plots-to-improve-your-regression/)"
   ]
  },
  {
   "cell_type": "code",
   "execution_count": null,
   "metadata": {
    "slideshow": {
     "slide_type": "subslide"
    }
   },
   "outputs": [],
   "source": [
    "predictions = model.predict(X)\n",
    "# Plot Residuals\n",
    "plt.scatter(predictions, predictions - y)\n",
    "plt.xlabel('predictions made by the model')\n",
    "plt.ylabel('residuals-prediction accuracy')\n",
    "plt.hlines(y=0, xmin=predictions.min(), xmax=predictions.max(), color='red')\n",
    "plt.show()"
   ]
  },
  {
   "cell_type": "markdown",
   "metadata": {
    "slideshow": {
     "slide_type": "fragment"
    }
   },
   "source": [
    "We want our predictions to be close to zero on the y-axis in this plot."
   ]
  }
 ],
 "metadata": {
  "anaconda-cloud": {},
  "kernelspec": {
   "display_name": "mlenv",
   "language": "python",
   "name": "mlenv"
  },
  "language_info": {
   "codemirror_mode": {
    "name": "ipython",
    "version": 3
   },
   "file_extension": ".py",
   "mimetype": "text/x-python",
   "name": "python",
   "nbconvert_exporter": "python",
   "pygments_lexer": "ipython3",
   "version": "3.7.10"
  },
  "varInspector": {
   "cols": {
    "lenName": 16,
    "lenType": 16,
    "lenVar": 40
   },
   "kernels_config": {
    "python": {
     "delete_cmd_postfix": "",
     "delete_cmd_prefix": "del ",
     "library": "var_list.py",
     "varRefreshCmd": "print(var_dic_list())"
    },
    "r": {
     "delete_cmd_postfix": ") ",
     "delete_cmd_prefix": "rm(",
     "library": "var_list.r",
     "varRefreshCmd": "cat(var_dic_list()) "
    }
   },
   "types_to_exclude": [
    "module",
    "function",
    "builtin_function_or_method",
    "instance",
    "_Feature"
   ],
   "window_display": false
  }
 },
 "nbformat": 4,
 "nbformat_minor": 2
}
