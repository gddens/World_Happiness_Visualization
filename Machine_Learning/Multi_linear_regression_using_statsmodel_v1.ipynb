{
 "cells": [
  {
   "cell_type": "code",
   "execution_count": 1,
   "metadata": {
    "slideshow": {
     "slide_type": "skip"
    }
   },
   "outputs": [],
   "source": [
    "%matplotlib inline\n",
    "import matplotlib.pyplot as plt\n",
    "from sklearn import linear_model   \n",
    "import pandas as pd\n",
    "import numpy as np"
   ]
  },
  {
   "cell_type": "code",
   "execution_count": 2,
   "metadata": {},
   "outputs": [],
   "source": [
    "file = 'Test_data_2017.csv'\n",
    "df = pd.read_csv(file)\n"
   ]
  },
  {
   "cell_type": "markdown",
   "metadata": {
    "slideshow": {
     "slide_type": "slide"
    }
   },
   "source": [
    "# Multiple Linear Regression"
   ]
  },
  {
   "cell_type": "markdown",
   "metadata": {
    "slideshow": {
     "slide_type": "subslide"
    }
   },
   "source": [
    "Multiple linear regression simply means that you have more than one feature variable.\n",
    "\n",
    "Note: The weights are how important each feature is to the equation. This is the part that the algorithm has to learn."
   ]
  },
  {
   "cell_type": "markdown",
   "metadata": {
    "slideshow": {
     "slide_type": "fragment"
    }
   },
   "source": [
    "The generic formula is:\n",
    "\n",
    "$Y_i = Bias_0 + Weight_1 Feature_1 + Weight_2 Feature_2 + \\ldots + Weight_p Feature_p$"
   ]
  },
  {
   "cell_type": "markdown",
   "metadata": {
    "slideshow": {
     "slide_type": "fragment"
    }
   },
   "source": [
    "The equation is often written as:\n",
    "\n",
    "$Y_i = \\theta_0 + \\theta_1 X_{i1} + \\theta_2 X_{i2} + \\ldots + \\theta_p X_{ip}$\n",
    "\n",
    "Source: [Linear Regression](http://cs229.stanford.edu/notes/cs229-notes1.pdf)"
   ]
  },
  {
   "cell_type": "code",
   "execution_count": 3,
   "metadata": {},
   "outputs": [
    {
     "data": {
      "text/html": [
       "<div>\n",
       "<style scoped>\n",
       "    .dataframe tbody tr th:only-of-type {\n",
       "        vertical-align: middle;\n",
       "    }\n",
       "\n",
       "    .dataframe tbody tr th {\n",
       "        vertical-align: top;\n",
       "    }\n",
       "\n",
       "    .dataframe thead th {\n",
       "        text-align: right;\n",
       "    }\n",
       "</style>\n",
       "<table border=\"1\" class=\"dataframe\">\n",
       "  <thead>\n",
       "    <tr style=\"text-align: right;\">\n",
       "      <th></th>\n",
       "      <th>Country_name</th>\n",
       "      <th>year</th>\n",
       "      <th>Life_Ladder</th>\n",
       "      <th>Log_GDP_percapita</th>\n",
       "      <th>Social_support</th>\n",
       "      <th>Healthy _life_expectancy_at_birth</th>\n",
       "      <th>Freedom_to_make_life_choices</th>\n",
       "      <th>Generosity</th>\n",
       "      <th>Perceptions_of_corruption</th>\n",
       "      <th>Positive_affect</th>\n",
       "      <th>Negative_affect</th>\n",
       "    </tr>\n",
       "  </thead>\n",
       "  <tbody>\n",
       "    <tr>\n",
       "      <th>0</th>\n",
       "      <td>Afghanistan</td>\n",
       "      <td>2017</td>\n",
       "      <td>2.662</td>\n",
       "      <td>7.697</td>\n",
       "      <td>0.491</td>\n",
       "      <td>52.8</td>\n",
       "      <td>0.427</td>\n",
       "      <td>-0.121</td>\n",
       "      <td>0.954</td>\n",
       "      <td>0.496</td>\n",
       "      <td>0.371</td>\n",
       "    </tr>\n",
       "    <tr>\n",
       "      <th>1</th>\n",
       "      <td>Albania</td>\n",
       "      <td>2017</td>\n",
       "      <td>4.640</td>\n",
       "      <td>9.476</td>\n",
       "      <td>0.638</td>\n",
       "      <td>68.4</td>\n",
       "      <td>0.750</td>\n",
       "      <td>-0.029</td>\n",
       "      <td>0.876</td>\n",
       "      <td>0.669</td>\n",
       "      <td>0.334</td>\n",
       "    </tr>\n",
       "    <tr>\n",
       "      <th>2</th>\n",
       "      <td>Algeria</td>\n",
       "      <td>2017</td>\n",
       "      <td>5.249</td>\n",
       "      <td>9.354</td>\n",
       "      <td>0.807</td>\n",
       "      <td>65.7</td>\n",
       "      <td>0.437</td>\n",
       "      <td>-0.167</td>\n",
       "      <td>0.700</td>\n",
       "      <td>0.642</td>\n",
       "      <td>0.289</td>\n",
       "    </tr>\n",
       "    <tr>\n",
       "      <th>3</th>\n",
       "      <td>Argentina</td>\n",
       "      <td>2017</td>\n",
       "      <td>6.039</td>\n",
       "      <td>10.067</td>\n",
       "      <td>0.907</td>\n",
       "      <td>68.6</td>\n",
       "      <td>0.832</td>\n",
       "      <td>-0.186</td>\n",
       "      <td>0.841</td>\n",
       "      <td>0.809</td>\n",
       "      <td>0.292</td>\n",
       "    </tr>\n",
       "    <tr>\n",
       "      <th>4</th>\n",
       "      <td>Armenia</td>\n",
       "      <td>2017</td>\n",
       "      <td>4.288</td>\n",
       "      <td>9.402</td>\n",
       "      <td>0.698</td>\n",
       "      <td>66.6</td>\n",
       "      <td>0.614</td>\n",
       "      <td>-0.147</td>\n",
       "      <td>0.865</td>\n",
       "      <td>0.625</td>\n",
       "      <td>0.437</td>\n",
       "    </tr>\n",
       "  </tbody>\n",
       "</table>\n",
       "</div>"
      ],
      "text/plain": [
       "  Country_name  year  Life_Ladder  Log_GDP_percapita  Social_support  \\\n",
       "0  Afghanistan  2017        2.662              7.697           0.491   \n",
       "1      Albania  2017        4.640              9.476           0.638   \n",
       "2      Algeria  2017        5.249              9.354           0.807   \n",
       "3    Argentina  2017        6.039             10.067           0.907   \n",
       "4      Armenia  2017        4.288              9.402           0.698   \n",
       "\n",
       "   Healthy _life_expectancy_at_birth  Freedom_to_make_life_choices  \\\n",
       "0                               52.8                         0.427   \n",
       "1                               68.4                         0.750   \n",
       "2                               65.7                         0.437   \n",
       "3                               68.6                         0.832   \n",
       "4                               66.6                         0.614   \n",
       "\n",
       "   Generosity  Perceptions_of_corruption  Positive_affect  Negative_affect  \n",
       "0      -0.121                      0.954            0.496            0.371  \n",
       "1      -0.029                      0.876            0.669            0.334  \n",
       "2      -0.167                      0.700            0.642            0.289  \n",
       "3      -0.186                      0.841            0.809            0.292  \n",
       "4      -0.147                      0.865            0.625            0.437  "
      ]
     },
     "execution_count": 3,
     "metadata": {},
     "output_type": "execute_result"
    }
   ],
   "source": [
    "df.head()"
   ]
  },
  {
   "cell_type": "code",
   "execution_count": 4,
   "metadata": {},
   "outputs": [
    {
     "data": {
      "text/plain": [
       "Country_name                         147\n",
       "year                                 147\n",
       "Life_Ladder                          147\n",
       "Log_GDP_percapita                    147\n",
       "Social_support                       147\n",
       "Healthy _life_expectancy_at_birth    147\n",
       "Freedom_to_make_life_choices         147\n",
       "Generosity                           147\n",
       "Perceptions_of_corruption            147\n",
       "Positive_affect                      147\n",
       "Negative_affect                      147\n",
       "dtype: int64"
      ]
     },
     "execution_count": 4,
     "metadata": {},
     "output_type": "execute_result"
    }
   ],
   "source": [
    "df.count()"
   ]
  },
  {
   "cell_type": "code",
   "execution_count": 5,
   "metadata": {},
   "outputs": [],
   "source": [
    "clean_data = df.drop(columns=['Country_name', 'year'])"
   ]
  },
  {
   "cell_type": "code",
   "execution_count": 6,
   "metadata": {},
   "outputs": [
    {
     "data": {
      "text/plain": [
       "Life_Ladder                          147\n",
       "Log_GDP_percapita                    147\n",
       "Social_support                       147\n",
       "Healthy _life_expectancy_at_birth    147\n",
       "Freedom_to_make_life_choices         147\n",
       "Generosity                           147\n",
       "Perceptions_of_corruption            147\n",
       "Positive_affect                      147\n",
       "Negative_affect                      147\n",
       "dtype: int64"
      ]
     },
     "execution_count": 6,
     "metadata": {},
     "output_type": "execute_result"
    }
   ],
   "source": [
    "clean_data.count()"
   ]
  },
  {
   "cell_type": "markdown",
   "metadata": {},
   "source": [
    "#### Define Features, Target\n",
    "#### Split Data into Training & Test\n",
    "#### Fit the model"
   ]
  },
  {
   "cell_type": "code",
   "execution_count": 13,
   "metadata": {},
   "outputs": [],
   "source": [
    "X = clean_data.drop(columns='Life_Ladder', axis=1)\n",
    "y= clean_data['Life_Ladder']\n"
   ]
  },
  {
   "cell_type": "code",
   "execution_count": 14,
   "metadata": {},
   "outputs": [
    {
     "data": {
      "text/plain": [
       "(147, 8)"
      ]
     },
     "execution_count": 14,
     "metadata": {},
     "output_type": "execute_result"
    }
   ],
   "source": [
    "X.shape"
   ]
  },
  {
   "cell_type": "code",
   "execution_count": 15,
   "metadata": {},
   "outputs": [
    {
     "data": {
      "text/plain": [
       "(147,)"
      ]
     },
     "execution_count": 15,
     "metadata": {},
     "output_type": "execute_result"
    }
   ],
   "source": [
    "y.shape"
   ]
  },
  {
   "cell_type": "code",
   "execution_count": 10,
   "metadata": {},
   "outputs": [],
   "source": []
  },
  {
   "cell_type": "code",
   "execution_count": 16,
   "metadata": {},
   "outputs": [
    {
     "data": {
      "text/plain": [
       "(147,)"
      ]
     },
     "execution_count": 16,
     "metadata": {},
     "output_type": "execute_result"
    }
   ],
   "source": []
  },
  {
   "cell_type": "code",
   "execution_count": null,
   "metadata": {},
   "outputs": [],
   "source": []
  },
  {
   "cell_type": "code",
   "execution_count": 17,
   "metadata": {},
   "outputs": [
    {
     "data": {
      "text/plain": [
       "Counter({7.074: 1,\n",
       "         5.098: 1,\n",
       "         4.18: 1,\n",
       "         3.929: 1,\n",
       "         5.122: 1,\n",
       "         4.311: 1,\n",
       "         5.713: 1,\n",
       "         4.331: 1,\n",
       "         4.678: 1,\n",
       "         6.23: 1,\n",
       "         4.514: 1,\n",
       "         4.441: 1,\n",
       "         6.928: 1,\n",
       "         3.933: 1,\n",
       "         6.41: 1,\n",
       "         4.853: 1,\n",
       "         5.249: 1,\n",
       "         7.327: 1,\n",
       "         5.579: 1,\n",
       "         4.001: 1,\n",
       "         7.294: 1,\n",
       "         7.287: 1,\n",
       "         6.201: 1,\n",
       "         4.808: 1,\n",
       "         4.046: 1,\n",
       "         6.273: 1,\n",
       "         7.579: 1,\n",
       "         5.481: 1,\n",
       "         5.038: 1,\n",
       "         4.683: 1,\n",
       "         4.28: 1,\n",
       "         4.616: 1,\n",
       "         6.192: 1,\n",
       "         5.553: 1,\n",
       "         5.605: 1,\n",
       "         6.79: 1,\n",
       "         2.817: 1,\n",
       "         5.938: 1,\n",
       "         5.711: 1,\n",
       "         3.638: 1,\n",
       "         4.884: 1,\n",
       "         4.559: 1,\n",
       "         4.476: 1,\n",
       "         4.31: 1,\n",
       "         5.829: 1,\n",
       "         7.459: 1,\n",
       "         4.628: 1,\n",
       "         4.361: 1,\n",
       "         5.334: 1,\n",
       "         5.175: 1,\n",
       "         6.378: 1,\n",
       "         5.911: 1,\n",
       "         3.505: 1,\n",
       "         6.676: 1,\n",
       "         6.635: 1,\n",
       "         3.417: 1,\n",
       "         5.362: 1,\n",
       "         6.157: 1,\n",
       "         5.647: 1,\n",
       "         4.118: 1,\n",
       "         6.32: 1,\n",
       "         5.071: 1,\n",
       "         6.294: 1,\n",
       "         6.359: 1,\n",
       "         4.874: 1,\n",
       "         7.415: 1,\n",
       "         5.63: 1,\n",
       "         6.039: 1,\n",
       "         6.992: 1,\n",
       "         5.343: 1,\n",
       "         3.254: 1,\n",
       "         5.594: 1,\n",
       "         5.148: 1,\n",
       "         4.09: 1,\n",
       "         5.651: 1,\n",
       "         5.615: 1,\n",
       "         6.227: 1,\n",
       "         4.742: 1,\n",
       "         7.331: 1,\n",
       "         2.662: 1,\n",
       "         4.64: 1,\n",
       "         4.717: 1,\n",
       "         3.476: 1,\n",
       "         6.199: 1,\n",
       "         5.89: 1,\n",
       "         5.152: 1,\n",
       "         5.326: 1,\n",
       "         6.476: 1,\n",
       "         6.149: 1,\n",
       "         3.824: 1,\n",
       "         5.831: 1,\n",
       "         5.074: 1,\n",
       "         5.099: 1,\n",
       "         5.229: 1,\n",
       "         4.623: 1,\n",
       "         5.939: 1,\n",
       "         4.079: 1,\n",
       "         5.607: 1,\n",
       "         7.039: 1,\n",
       "         5.978: 1,\n",
       "         6.336: 1,\n",
       "         6.339: 1})"
      ]
     },
     "execution_count": 17,
     "metadata": {},
     "output_type": "execute_result"
    }
   ],
   "source": [
    "from sklearn.model_selection import train_test_split\n",
    "from collections import Counter\n",
    "#70% of data is for training the dataset, & 30% is for testing dataset\n",
    "X_train, X_test, y_train, y_test = train_test_split(X, y, test_size=0.3, random_state=1)\n",
    "Counter(y_train)"
   ]
  },
  {
   "cell_type": "code",
   "execution_count": 18,
   "metadata": {},
   "outputs": [],
   "source": [
    "y=y.values.reshape(-1,1)"
   ]
  },
  {
   "cell_type": "code",
   "execution_count": null,
   "metadata": {},
   "outputs": [],
   "source": []
  },
  {
   "cell_type": "markdown",
   "metadata": {},
   "source": [
    "### Implement a linear model:"
   ]
  },
  {
   "cell_type": "code",
   "execution_count": 54,
   "metadata": {},
   "outputs": [
    {
     "data": {
      "text/html": [
       "<div>\n",
       "<style scoped>\n",
       "    .dataframe tbody tr th:only-of-type {\n",
       "        vertical-align: middle;\n",
       "    }\n",
       "\n",
       "    .dataframe tbody tr th {\n",
       "        vertical-align: top;\n",
       "    }\n",
       "\n",
       "    .dataframe thead th {\n",
       "        text-align: right;\n",
       "    }\n",
       "</style>\n",
       "<table border=\"1\" class=\"dataframe\">\n",
       "  <thead>\n",
       "    <tr style=\"text-align: right;\">\n",
       "      <th></th>\n",
       "      <th>Log_GDP_percapita</th>\n",
       "      <th>Social_support</th>\n",
       "      <th>Healthy _life_expectancy_at_birth</th>\n",
       "      <th>Freedom_to_make_life_choices</th>\n",
       "      <th>Generosity</th>\n",
       "      <th>Perceptions_of_corruption</th>\n",
       "      <th>Positive_affect</th>\n",
       "      <th>Negative_affect</th>\n",
       "    </tr>\n",
       "  </thead>\n",
       "  <tbody>\n",
       "    <tr>\n",
       "      <th>45</th>\n",
       "      <td>10.878</td>\n",
       "      <td>0.892</td>\n",
       "      <td>71.9</td>\n",
       "      <td>0.841</td>\n",
       "      <td>0.145</td>\n",
       "      <td>0.414</td>\n",
       "      <td>0.737</td>\n",
       "      <td>0.196</td>\n",
       "    </tr>\n",
       "    <tr>\n",
       "      <th>56</th>\n",
       "      <td>9.300</td>\n",
       "      <td>0.796</td>\n",
       "      <td>61.9</td>\n",
       "      <td>0.865</td>\n",
       "      <td>0.488</td>\n",
       "      <td>0.900</td>\n",
       "      <td>0.863</td>\n",
       "      <td>0.319</td>\n",
       "    </tr>\n",
       "    <tr>\n",
       "      <th>39</th>\n",
       "      <td>7.612</td>\n",
       "      <td>0.734</td>\n",
       "      <td>58.0</td>\n",
       "      <td>0.717</td>\n",
       "      <td>0.001</td>\n",
       "      <td>0.757</td>\n",
       "      <td>0.609</td>\n",
       "      <td>0.304</td>\n",
       "    </tr>\n",
       "    <tr>\n",
       "      <th>36</th>\n",
       "      <td>9.307</td>\n",
       "      <td>0.638</td>\n",
       "      <td>61.4</td>\n",
       "      <td>0.593</td>\n",
       "      <td>-0.152</td>\n",
       "      <td>0.827</td>\n",
       "      <td>0.539</td>\n",
       "      <td>0.414</td>\n",
       "    </tr>\n",
       "    <tr>\n",
       "      <th>114</th>\n",
       "      <td>9.713</td>\n",
       "      <td>0.884</td>\n",
       "      <td>67.8</td>\n",
       "      <td>0.685</td>\n",
       "      <td>-0.077</td>\n",
       "      <td>0.851</td>\n",
       "      <td>0.510</td>\n",
       "      <td>0.326</td>\n",
       "    </tr>\n",
       "    <tr>\n",
       "      <th>...</th>\n",
       "      <td>...</td>\n",
       "      <td>...</td>\n",
       "      <td>...</td>\n",
       "      <td>...</td>\n",
       "      <td>...</td>\n",
       "      <td>...</td>\n",
       "      <td>...</td>\n",
       "      <td>...</td>\n",
       "    </tr>\n",
       "    <tr>\n",
       "      <th>133</th>\n",
       "      <td>10.238</td>\n",
       "      <td>0.876</td>\n",
       "      <td>66.4</td>\n",
       "      <td>0.644</td>\n",
       "      <td>-0.237</td>\n",
       "      <td>0.671</td>\n",
       "      <td>0.450</td>\n",
       "      <td>0.313</td>\n",
       "    </tr>\n",
       "    <tr>\n",
       "      <th>137</th>\n",
       "      <td>11.115</td>\n",
       "      <td>0.836</td>\n",
       "      <td>66.9</td>\n",
       "      <td>0.962</td>\n",
       "      <td>0.216</td>\n",
       "      <td>0.299</td>\n",
       "      <td>0.795</td>\n",
       "      <td>0.208</td>\n",
       "    </tr>\n",
       "    <tr>\n",
       "      <th>72</th>\n",
       "      <td>10.257</td>\n",
       "      <td>0.895</td>\n",
       "      <td>66.5</td>\n",
       "      <td>0.700</td>\n",
       "      <td>-0.154</td>\n",
       "      <td>0.798</td>\n",
       "      <td>0.623</td>\n",
       "      <td>0.232</td>\n",
       "    </tr>\n",
       "    <tr>\n",
       "      <th>140</th>\n",
       "      <td>9.968</td>\n",
       "      <td>0.914</td>\n",
       "      <td>68.9</td>\n",
       "      <td>0.898</td>\n",
       "      <td>-0.091</td>\n",
       "      <td>0.627</td>\n",
       "      <td>0.836</td>\n",
       "      <td>0.280</td>\n",
       "    </tr>\n",
       "    <tr>\n",
       "      <th>37</th>\n",
       "      <td>9.042</td>\n",
       "      <td>0.829</td>\n",
       "      <td>65.8</td>\n",
       "      <td>0.758</td>\n",
       "      <td>-0.172</td>\n",
       "      <td>0.778</td>\n",
       "      <td>0.849</td>\n",
       "      <td>0.268</td>\n",
       "    </tr>\n",
       "  </tbody>\n",
       "</table>\n",
       "<p>102 rows × 8 columns</p>\n",
       "</div>"
      ],
      "text/plain": [
       "     Log_GDP_percapita  Social_support  Healthy _life_expectancy_at_birth  \\\n",
       "45              10.878           0.892                               71.9   \n",
       "56               9.300           0.796                               61.9   \n",
       "39               7.612           0.734                               58.0   \n",
       "36               9.307           0.638                               61.4   \n",
       "114              9.713           0.884                               67.8   \n",
       "..                 ...             ...                                ...   \n",
       "133             10.238           0.876                               66.4   \n",
       "137             11.115           0.836                               66.9   \n",
       "72              10.257           0.895                               66.5   \n",
       "140              9.968           0.914                               68.9   \n",
       "37               9.042           0.829                               65.8   \n",
       "\n",
       "     Freedom_to_make_life_choices  Generosity  Perceptions_of_corruption  \\\n",
       "45                          0.841       0.145                      0.414   \n",
       "56                          0.865       0.488                      0.900   \n",
       "39                          0.717       0.001                      0.757   \n",
       "36                          0.593      -0.152                      0.827   \n",
       "114                         0.685      -0.077                      0.851   \n",
       "..                            ...         ...                        ...   \n",
       "133                         0.644      -0.237                      0.671   \n",
       "137                         0.962       0.216                      0.299   \n",
       "72                          0.700      -0.154                      0.798   \n",
       "140                         0.898      -0.091                      0.627   \n",
       "37                          0.758      -0.172                      0.778   \n",
       "\n",
       "     Positive_affect  Negative_affect  \n",
       "45             0.737            0.196  \n",
       "56             0.863            0.319  \n",
       "39             0.609            0.304  \n",
       "36             0.539            0.414  \n",
       "114            0.510            0.326  \n",
       "..               ...              ...  \n",
       "133            0.450            0.313  \n",
       "137            0.795            0.208  \n",
       "72             0.623            0.232  \n",
       "140            0.836            0.280  \n",
       "37             0.849            0.268  \n",
       "\n",
       "[102 rows x 8 columns]"
      ]
     },
     "execution_count": 54,
     "metadata": {},
     "output_type": "execute_result"
    }
   ],
   "source": [
    "from sklearn.linear_model import LinearRegression\n",
    "import statsmodels.api as sm \n",
    "# Fitting our model with all our features in X\n",
    "model = sm.OLS(y_train, X_train).fit()\n",
    "\n",
    "\n",
    "X_train\n",
    "#model.fit(X_train, y_train)"
   ]
  },
  {
   "cell_type": "code",
   "execution_count": 28,
   "metadata": {},
   "outputs": [
    {
     "name": "stdout",
     "output_type": "stream",
     "text": [
      "(147, 8)\n"
     ]
    }
   ],
   "source": [
    "print(X.shape)"
   ]
  },
  {
   "cell_type": "code",
   "execution_count": 29,
   "metadata": {},
   "outputs": [
    {
     "name": "stdout",
     "output_type": "stream",
     "text": [
      "(147, 1)\n"
     ]
    }
   ],
   "source": [
    "print(y.shape)"
   ]
  },
  {
   "cell_type": "code",
   "execution_count": 51,
   "metadata": {},
   "outputs": [
    {
     "name": "stdout",
     "output_type": "stream",
     "text": [
      "99     5.114066\n",
      "93     4.945948\n",
      "54     6.810969\n",
      "103    6.012703\n",
      "98     4.746660\n",
      "75     4.217913\n",
      "89     4.688642\n",
      "53     5.654156\n",
      "44     5.098282\n",
      "59     7.138466\n",
      "5      6.968616\n",
      "16     5.552323\n",
      "91     5.591996\n",
      "14     5.109925\n",
      "58     4.590632\n",
      "33     7.241959\n",
      "73     5.015237\n",
      "29     6.159950\n",
      "66     5.868198\n",
      "35     5.703070\n",
      "117    5.827879\n",
      "84     5.944537\n",
      "31     5.953655\n",
      "128    4.895088\n",
      "109    5.517489\n",
      "19     5.087123\n",
      "51     5.606278\n",
      "48     5.502177\n",
      "120    5.658602\n",
      "141    6.221583\n",
      "125    7.123038\n",
      "132    4.541513\n",
      "42     4.861379\n",
      "138    6.813897\n",
      "28     3.999742\n",
      "40     7.119239\n",
      "105    5.376001\n",
      "118    5.949822\n",
      "17     5.521272\n",
      "111    5.116037\n",
      "78     7.045103\n",
      "69     6.207223\n",
      "74     4.503885\n",
      "18     4.425451\n",
      "4      4.828206\n",
      "dtype: float64\n"
     ]
    }
   ],
   "source": [
    "y_predict = model.predict(X_test)\n",
    "print(y_predict)"
   ]
  },
  {
   "cell_type": "code",
   "execution_count": 52,
   "metadata": {},
   "outputs": [
    {
     "name": "stdout",
     "output_type": "stream",
     "text": [
      "                                 OLS Regression Results                                \n",
      "=======================================================================================\n",
      "Dep. Variable:            Life_Ladder   R-squared (uncentered):                   0.989\n",
      "Model:                            OLS   Adj. R-squared (uncentered):              0.988\n",
      "Method:                 Least Squares   F-statistic:                              1044.\n",
      "Date:                Sun, 14 Nov 2021   Prob (F-statistic):                    2.89e-88\n",
      "Time:                        18:24:12   Log-Likelihood:                         -88.963\n",
      "No. Observations:                 102   AIC:                                      193.9\n",
      "Df Residuals:                      94   BIC:                                      214.9\n",
      "Df Model:                           8                                                  \n",
      "Covariance Type:            nonrobust                                                  \n",
      "=====================================================================================================\n",
      "                                        coef    std err          t      P>|t|      [0.025      0.975]\n",
      "-----------------------------------------------------------------------------------------------------\n",
      "Log_GDP_percapita                     0.2370      0.118      2.016      0.047       0.004       0.470\n",
      "Social_support                        1.7522      0.877      1.999      0.048       0.012       3.493\n",
      "Healthy _life_expectancy_at_birth     0.0260      0.017      1.505      0.136      -0.008       0.060\n",
      "Freedom_to_make_life_choices          0.5336      0.681      0.784      0.435      -0.818       1.885\n",
      "Generosity                            0.4578      0.455      1.006      0.317      -0.446       1.361\n",
      "Perceptions_of_corruption            -1.1512      0.398     -2.890      0.005      -1.942      -0.360\n",
      "Positive_affect                       1.0628      0.765      1.389      0.168      -0.456       2.582\n",
      "Negative_affect                      -0.6411      0.728     -0.881      0.381      -2.086       0.804\n",
      "==============================================================================\n",
      "Omnibus:                        2.887   Durbin-Watson:                   1.871\n",
      "Prob(Omnibus):                  0.236   Jarque-Bera (JB):                2.893\n",
      "Skew:                          -0.378   Prob(JB):                        0.235\n",
      "Kurtosis:                       2.671   Cond. No.                     1.07e+03\n",
      "==============================================================================\n",
      "\n",
      "Notes:\n",
      "[1] R² is computed without centering (uncentered) since the model does not contain a constant.\n",
      "[2] Standard Errors assume that the covariance matrix of the errors is correctly specified.\n",
      "[3] The condition number is large, 1.07e+03. This might indicate that there are\n",
      "strong multicollinearity or other numerical problems.\n"
     ]
    }
   ],
   "source": [
    "print(model.summary())"
   ]
  },
  {
   "cell_type": "markdown",
   "metadata": {},
   "source": [
    "#### <ins>Interpretations of the results:\n",
    "* R-squared value: This is a statistical measure of how well the regression line fits with the real data points. The higher the value, the better the fit\n",
    "* Adj, R-squared: This is the corrected R-squared value according to the number of input features. Ideally, it should be close to the R-squareds value\n",
    "* Coefficient: This gives the ‘M’ value for the regression line. It tells how much the Life_Ladder changes with a unit change in the feature columns. A positive value means that the two variables are directly proportional. A negative value means that the two variables are inversely proportional to each other\n",
    "* Std error:  This tells us how accurate our coefficient value is. The lower the standard error, the higher the accuracy\n",
    "* P >|t| : This is the p-value. It tells us how statistically significant feature values are to the Life_Ladder. A value less than 0.05 means that it is quite significant.\n",
    "\n",
    "\n",
    "\n",
    "\n",
    "\n",
    "\n"
   ]
  },
  {
   "cell_type": "markdown",
   "metadata": {},
   "source": [
    "#### In the OLS model, we use the training data to fit and predict\n",
    "#### In the Kinear Regression model, we are using training data to fit and test the data to predict"
   ]
  },
  {
   "cell_type": "code",
   "execution_count": 39,
   "metadata": {},
   "outputs": [
    {
     "name": "stdout",
     "output_type": "stream",
     "text": [
      "Mean Absolute Error: 0.45117816213512835\n",
      "Mean Square Error: 0.3702647275191162\n",
      "Root Mean Square Error: 0.6084938188010756\n"
     ]
    }
   ],
   "source": [
    "\n",
    "\n",
    "#Model Evaluation\n",
    "from sklearn import metrics\n",
    "meanAbErr = metrics.mean_absolute_error(y_test, y_test_predict)\n",
    "meanSqErr = metrics.mean_squared_error(y_test, y_test_predict)\n",
    "rootMeanSqErr = np.sqrt(metrics.mean_squared_error(y_test, y_test_predict))\n",
    "# print('R squared: {:.2f}'.format(model.score(X,y)*100))\n",
    "print('Mean Absolute Error:', meanAbErr)\n",
    "print('Mean Square Error:', meanSqErr)\n",
    "print('Root Mean Square Error:', rootMeanSqErr)\n"
   ]
  },
  {
   "cell_type": "markdown",
   "metadata": {},
   "source": [
    "#### Model equation $y_i = \\beta_0 + \\beta_1x_{i1} + \\beta_2 x_{i2} + \\ldots + \\beta_p x_{ip} + \\epsilon $\n",
    "#### $y_i = dependent variable $\n",
    "#### $x_i = expanatory variables $\n",
    "#### $\\beta_0 = y-intercept $\n",
    "#### $\\beta_p = slope coefficient for each explanatory variable $\n",
    "#### $\\epsilon =  the models error term (also known as residuals $\n"
   ]
  },
  {
   "cell_type": "code",
   "execution_count": null,
   "metadata": {},
   "outputs": [],
   "source": []
  },
  {
   "cell_type": "markdown",
   "metadata": {},
   "source": [
    "##### Regression Equation: Happiness_Ladder = -3.22 +(0.28*Log_GDP_percapita)+(1.88*Social_support)+(0.04*Healthy _life_expectancy_at_birth)+ (1.02*Freedom_to_make_life_choices)+(0.52*Generosity)+(-0.59*Perceptions_of_corruption)+(1.47*Positive_affect)+(1.19*Negative_affect) + e"
   ]
  },
  {
   "cell_type": "code",
   "execution_count": 43,
   "metadata": {},
   "outputs": [
    {
     "name": "stdout",
     "output_type": "stream",
     "text": [
      "Prediction for test set: 99     5.114066\n",
      "93     4.945948\n",
      "54     6.810969\n",
      "103    6.012703\n",
      "98     4.746660\n",
      "75     4.217913\n",
      "89     4.688642\n",
      "53     5.654156\n",
      "44     5.098282\n",
      "59     7.138466\n",
      "5      6.968616\n",
      "16     5.552323\n",
      "91     5.591996\n",
      "14     5.109925\n",
      "58     4.590632\n",
      "33     7.241959\n",
      "73     5.015237\n",
      "29     6.159950\n",
      "66     5.868198\n",
      "35     5.703070\n",
      "117    5.827879\n",
      "84     5.944537\n",
      "31     5.953655\n",
      "128    4.895088\n",
      "109    5.517489\n",
      "19     5.087123\n",
      "51     5.606278\n",
      "48     5.502177\n",
      "120    5.658602\n",
      "141    6.221583\n",
      "125    7.123038\n",
      "132    4.541513\n",
      "42     4.861379\n",
      "138    6.813897\n",
      "28     3.999742\n",
      "40     7.119239\n",
      "105    5.376001\n",
      "118    5.949822\n",
      "17     5.521272\n",
      "111    5.116037\n",
      "78     7.045103\n",
      "69     6.207223\n",
      "74     4.503885\n",
      "18     4.425451\n",
      "4      4.828206\n",
      "dtype: float64\n"
     ]
    }
   ],
   "source": [
    "y_pred = model.predict(X_test)\n",
    "print(\"Prediction for test set: {}\".format(y_pred))"
   ]
  },
  {
   "cell_type": "code",
   "execution_count": null,
   "metadata": {},
   "outputs": [],
   "source": [
    "results = pd.DataFrame( {\"Actual value\": y_test, \"Predicted value\": y_pred}).reset_index(drop=True)\n"
   ]
  },
  {
   "cell_type": "code",
   "execution_count": null,
   "metadata": {},
   "outputs": [],
   "source": [
    "results.head(10)"
   ]
  },
  {
   "cell_type": "code",
   "execution_count": null,
   "metadata": {},
   "outputs": [],
   "source": [
    "#Model Evaluation\n",
    "from sklearn import metrics\n",
    "meanAbErr = metrics.mean_absolute_error(y_test, y_pred)\n",
    "meanSqErr = metrics.mean_squared_error(y_test, y_pred)\n",
    "rootMeanSqErr = np.sqrt(metrics.mean_squared_error(y_test, y_pred))\n",
    "print('R squared: {:.2f}'.format(model.score(X,y)*100))\n",
    "print('Mean Absolute Error:', meanAbErr)\n",
    "print('Mean Square Error:', meanSqErr)\n",
    "print('Root Mean Square Error:', rootMeanSqErr)"
   ]
  },
  {
   "cell_type": "code",
   "execution_count": null,
   "metadata": {},
   "outputs": [],
   "source": [
    "import statsmodels.api as sm  \n",
    "print_model = sm.model\n",
    "print(print_model)  "
   ]
  },
  {
   "attachments": {
    "image.png": {
     "image/png": "[encoded data removed]"
    }
   },
   "cell_type": "markdown",
   "metadata": {},
   "source": [
    "## Result interpretation:\n",
    "#### <ins><b> R squared:</b></ins> Coefficient of determination: Shows how many points fall on the regression line. Here the value is 75.90%\n",
    "#### <ins><b> Mean Absolute Error:</b></ins> Absolute difference between the actual and the predicted values, 0.44 is close to 0, which is good\n",
    "#### <ins><b> Mean Square Error:</b></ins> descibes how close a regression line is to a set of points, by taking the distances from the point to the regression line and squaring them, 0.32 is close to 0, which indicates the model performance is good\n",
    " ![image.png](attachment:image.png)\n",
    "#### <ins><b> Root Mean Square Error:</b></ins> is an applied measure of the differences between numbers(population values and samples) which is predicted by an estimator. It describes the sample standard deviation of the differences between the predicted and observed values. 0.57 means that the model's performance is good"
   ]
  },
  {
   "cell_type": "markdown",
   "metadata": {
    "slideshow": {
     "slide_type": "slide"
    }
   },
   "source": [
    "## Residuals"
   ]
  },
  {
   "cell_type": "markdown",
   "metadata": {
    "slideshow": {
     "slide_type": "fragment"
    }
   },
   "source": [
    "Because we can't easily plot our line in 3D space, we can use a residual plot to check our predictions."
   ]
  },
  {
   "cell_type": "markdown",
   "metadata": {
    "slideshow": {
     "slide_type": "fragment"
    }
   },
   "source": [
    "Residuals are the difference between the true values of y and the predicted values of y.\n",
    "\n",
    "Source: [Interpreting Residual Plots](http://docs.statwing.com/interpreting-residual-plots-to-improve-your-regression/)"
   ]
  },
  {
   "cell_type": "code",
   "execution_count": null,
   "metadata": {
    "slideshow": {
     "slide_type": "subslide"
    }
   },
   "outputs": [],
   "source": [
    "predictions = model.predict(X)\n",
    "# Plot Residuals\n",
    "plt.scatter(predictions, predictions - y)\n",
    "plt.hlines(y=0, xmin=predictions.min(), xmax=predictions.max(), color='red')\n",
    "plt.show()"
   ]
  },
  {
   "cell_type": "markdown",
   "metadata": {
    "slideshow": {
     "slide_type": "fragment"
    }
   },
   "source": [
    "We want our predictions to be close to zero on the y-axis in this plot."
   ]
  }
 ],
 "metadata": {
  "anaconda-cloud": {},
  "kernelspec": {
   "display_name": "mlenv",
   "language": "python",
   "name": "mlenv"
  },
  "language_info": {
   "codemirror_mode": {
    "name": "ipython",
    "version": 3
   },
   "file_extension": ".py",
   "mimetype": "text/x-python",
   "name": "python",
   "nbconvert_exporter": "python",
   "pygments_lexer": "ipython3",
   "version": "3.7.10"
  },
  "varInspector": {
   "cols": {
    "lenName": 16,
    "lenType": 16,
    "lenVar": 40
   },
   "kernels_config": {
    "python": {
     "delete_cmd_postfix": "",
     "delete_cmd_prefix": "del ",
     "library": "var_list.py",
     "varRefreshCmd": "print(var_dic_list())"
    },
    "r": {
     "delete_cmd_postfix": ") ",
     "delete_cmd_prefix": "rm(",
     "library": "var_list.r",
     "varRefreshCmd": "cat(var_dic_list()) "
    }
   },
   "types_to_exclude": [
    "module",
    "function",
    "builtin_function_or_method",
    "instance",
    "_Feature"
   ],
   "window_display": false
  }
 },
 "nbformat": 4,
 "nbformat_minor": 2
}
