{
 "cells": [
  {
   "cell_type": "code",
   "execution_count": 18,
   "metadata": {
    "slideshow": {
     "slide_type": "skip"
    }
   },
   "outputs": [],
   "source": [
    "%matplotlib inline\n",
    "import matplotlib.pyplot as plt\n",
    "import pandas as pd\n",
    "import numpy as np\n",
    "# Format the any numpy array to 3 decimal points\n",
    "np.set_printoptions(formatter={'float':\"{0:0.3f}\".format})"
   ]
  },
  {
   "cell_type": "code",
   "execution_count": 2,
   "metadata": {},
   "outputs": [],
   "source": [
    "file = 'Test_data_2017.csv'\n",
    "df = pd.read_csv(file)\n"
   ]
  },
  {
   "cell_type": "markdown",
   "metadata": {
    "slideshow": {
     "slide_type": "slide"
    }
   },
   "source": [
    "# Multiple Linear Regression"
   ]
  },
  {
   "cell_type": "markdown",
   "metadata": {
    "slideshow": {
     "slide_type": "subslide"
    }
   },
   "source": [
    "Multiple linear regression simply means that you have more than one feature variable.\n",
    "\n",
    "Note: The weights are how important each feature is to the equation. This is the part that the algorithm has to learn."
   ]
  },
  {
   "cell_type": "markdown",
   "metadata": {
    "slideshow": {
     "slide_type": "fragment"
    }
   },
   "source": [
    "The generic formula is:\n",
    "\n",
    "$Y_i = Bias_0 + Weight_1 Feature_1 + Weight_2 Feature_2 + \\ldots + Weight_p Feature_p$\n",
    "\n"
   ]
  },
  {
   "cell_type": "code",
   "execution_count": 3,
   "metadata": {},
   "outputs": [
    {
     "data": {
      "text/html": [
       "<div>\n",
       "<style scoped>\n",
       "    .dataframe tbody tr th:only-of-type {\n",
       "        vertical-align: middle;\n",
       "    }\n",
       "\n",
       "    .dataframe tbody tr th {\n",
       "        vertical-align: top;\n",
       "    }\n",
       "\n",
       "    .dataframe thead th {\n",
       "        text-align: right;\n",
       "    }\n",
       "</style>\n",
       "<table border=\"1\" class=\"dataframe\">\n",
       "  <thead>\n",
       "    <tr style=\"text-align: right;\">\n",
       "      <th></th>\n",
       "      <th>Country_name</th>\n",
       "      <th>year</th>\n",
       "      <th>Life_Ladder</th>\n",
       "      <th>Log_GDP_percapita</th>\n",
       "      <th>Social_support</th>\n",
       "      <th>Healthy _life_expectancy_at_birth</th>\n",
       "      <th>Freedom_to_make_life_choices</th>\n",
       "      <th>Generosity</th>\n",
       "      <th>Perceptions_of_corruption</th>\n",
       "      <th>Positive_affect</th>\n",
       "      <th>Negative_affect</th>\n",
       "    </tr>\n",
       "  </thead>\n",
       "  <tbody>\n",
       "    <tr>\n",
       "      <th>0</th>\n",
       "      <td>Afghanistan</td>\n",
       "      <td>2017</td>\n",
       "      <td>2.662</td>\n",
       "      <td>7.697</td>\n",
       "      <td>0.491</td>\n",
       "      <td>52.8</td>\n",
       "      <td>0.427</td>\n",
       "      <td>-0.121</td>\n",
       "      <td>0.954</td>\n",
       "      <td>0.496</td>\n",
       "      <td>0.371</td>\n",
       "    </tr>\n",
       "    <tr>\n",
       "      <th>1</th>\n",
       "      <td>Albania</td>\n",
       "      <td>2017</td>\n",
       "      <td>4.640</td>\n",
       "      <td>9.476</td>\n",
       "      <td>0.638</td>\n",
       "      <td>68.4</td>\n",
       "      <td>0.750</td>\n",
       "      <td>-0.029</td>\n",
       "      <td>0.876</td>\n",
       "      <td>0.669</td>\n",
       "      <td>0.334</td>\n",
       "    </tr>\n",
       "    <tr>\n",
       "      <th>2</th>\n",
       "      <td>Algeria</td>\n",
       "      <td>2017</td>\n",
       "      <td>5.249</td>\n",
       "      <td>9.354</td>\n",
       "      <td>0.807</td>\n",
       "      <td>65.7</td>\n",
       "      <td>0.437</td>\n",
       "      <td>-0.167</td>\n",
       "      <td>0.700</td>\n",
       "      <td>0.642</td>\n",
       "      <td>0.289</td>\n",
       "    </tr>\n",
       "    <tr>\n",
       "      <th>3</th>\n",
       "      <td>Argentina</td>\n",
       "      <td>2017</td>\n",
       "      <td>6.039</td>\n",
       "      <td>10.067</td>\n",
       "      <td>0.907</td>\n",
       "      <td>68.6</td>\n",
       "      <td>0.832</td>\n",
       "      <td>-0.186</td>\n",
       "      <td>0.841</td>\n",
       "      <td>0.809</td>\n",
       "      <td>0.292</td>\n",
       "    </tr>\n",
       "    <tr>\n",
       "      <th>4</th>\n",
       "      <td>Armenia</td>\n",
       "      <td>2017</td>\n",
       "      <td>4.288</td>\n",
       "      <td>9.402</td>\n",
       "      <td>0.698</td>\n",
       "      <td>66.6</td>\n",
       "      <td>0.614</td>\n",
       "      <td>-0.147</td>\n",
       "      <td>0.865</td>\n",
       "      <td>0.625</td>\n",
       "      <td>0.437</td>\n",
       "    </tr>\n",
       "  </tbody>\n",
       "</table>\n",
       "</div>"
      ],
      "text/plain": [
       "  Country_name  year  Life_Ladder  Log_GDP_percapita  Social_support  \\\n",
       "0  Afghanistan  2017        2.662              7.697           0.491   \n",
       "1      Albania  2017        4.640              9.476           0.638   \n",
       "2      Algeria  2017        5.249              9.354           0.807   \n",
       "3    Argentina  2017        6.039             10.067           0.907   \n",
       "4      Armenia  2017        4.288              9.402           0.698   \n",
       "\n",
       "   Healthy _life_expectancy_at_birth  Freedom_to_make_life_choices  \\\n",
       "0                               52.8                         0.427   \n",
       "1                               68.4                         0.750   \n",
       "2                               65.7                         0.437   \n",
       "3                               68.6                         0.832   \n",
       "4                               66.6                         0.614   \n",
       "\n",
       "   Generosity  Perceptions_of_corruption  Positive_affect  Negative_affect  \n",
       "0      -0.121                      0.954            0.496            0.371  \n",
       "1      -0.029                      0.876            0.669            0.334  \n",
       "2      -0.167                      0.700            0.642            0.289  \n",
       "3      -0.186                      0.841            0.809            0.292  \n",
       "4      -0.147                      0.865            0.625            0.437  "
      ]
     },
     "execution_count": 3,
     "metadata": {},
     "output_type": "execute_result"
    }
   ],
   "source": [
    "df.head()"
   ]
  },
  {
   "cell_type": "code",
   "execution_count": 4,
   "metadata": {},
   "outputs": [
    {
     "data": {
      "text/plain": [
       "Country_name                         147\n",
       "year                                 147\n",
       "Life_Ladder                          147\n",
       "Log_GDP_percapita                    147\n",
       "Social_support                       147\n",
       "Healthy _life_expectancy_at_birth    147\n",
       "Freedom_to_make_life_choices         147\n",
       "Generosity                           147\n",
       "Perceptions_of_corruption            147\n",
       "Positive_affect                      147\n",
       "Negative_affect                      147\n",
       "dtype: int64"
      ]
     },
     "execution_count": 4,
     "metadata": {},
     "output_type": "execute_result"
    }
   ],
   "source": [
    "df.count()"
   ]
  },
  {
   "cell_type": "code",
   "execution_count": 5,
   "metadata": {},
   "outputs": [],
   "source": [
    "clean_data = df.drop(columns=['Country_name', 'year'])"
   ]
  },
  {
   "cell_type": "code",
   "execution_count": 6,
   "metadata": {},
   "outputs": [
    {
     "data": {
      "text/plain": [
       "Life_Ladder                          147\n",
       "Log_GDP_percapita                    147\n",
       "Social_support                       147\n",
       "Healthy _life_expectancy_at_birth    147\n",
       "Freedom_to_make_life_choices         147\n",
       "Generosity                           147\n",
       "Perceptions_of_corruption            147\n",
       "Positive_affect                      147\n",
       "Negative_affect                      147\n",
       "dtype: int64"
      ]
     },
     "execution_count": 6,
     "metadata": {},
     "output_type": "execute_result"
    }
   ],
   "source": [
    "clean_data.count()"
   ]
  },
  {
   "cell_type": "markdown",
   "metadata": {},
   "source": [
    "#### Define Features, Target\n",
    "#### Split Data into Training & Test\n",
    "#### Fit the model"
   ]
  },
  {
   "cell_type": "code",
   "execution_count": 7,
   "metadata": {},
   "outputs": [],
   "source": [
    "X = clean_data.drop(columns='Life_Ladder', axis=1)\n",
    "y= clean_data['Life_Ladder']"
   ]
  },
  {
   "cell_type": "code",
   "execution_count": 12,
   "metadata": {},
   "outputs": [],
   "source": [
    "from sklearn.model_selection import train_test_split\n",
    "from collections import Counter\n",
    "#75% of data is for training the dataset, & 25% is for testing dataset\n",
    "X_train, X_test, y_train, y_test = train_test_split(X, y, test_size=0.25, random_state=1)\n",
    "#Counter(y_train)"
   ]
  },
  {
   "cell_type": "markdown",
   "metadata": {},
   "source": [
    "### Implement a linear model:"
   ]
  },
  {
   "cell_type": "code",
   "execution_count": 14,
   "metadata": {},
   "outputs": [
    {
     "data": {
      "text/plain": [
       "LinearRegression()"
      ]
     },
     "execution_count": 14,
     "metadata": {},
     "output_type": "execute_result"
    }
   ],
   "source": [
    "from sklearn.linear_model import LinearRegression\n",
    "model = LinearRegression()\n",
    "# Fitting our model with all our features in X\n",
    "model.fit(X_train, y_train)\n"
   ]
  },
  {
   "cell_type": "markdown",
   "metadata": {},
   "source": [
    "#### Model equation $y_i = \\beta_0 + \\beta_1x_{i1} + \\beta_2 x_{i2} + \\ldots + \\beta_p x_{ip} + \\epsilon $\n",
    "#### $y_i = dependent variable $\n",
    "#### $x_i = expanatory variables $\n",
    "#### $\\beta_0 = y-intercept $\n",
    "#### $\\beta_p = slope coefficient for each explanatory variable $\n",
    "#### $\\epsilon = the models error term (also known as residuals $\n",
    "\n",
    " source: https://www.c-sharpcorner.com/article/multiple-linear-regression/"
   ]
  },
  {
   "cell_type": "code",
   "execution_count": 15,
   "metadata": {},
   "outputs": [
    {
     "name": "stdout",
     "output_type": "stream",
     "text": [
      "Intercept:  -3.4071360407953417\n",
      "Coefficients:\n"
     ]
    },
    {
     "data": {
      "text/plain": [
       "[('Log_GDP_percapita', 0.3181885725907439),\n",
       " ('Social_support', 2.3677372038987357),\n",
       " ('Healthy _life_expectancy_at_birth', 0.034190225176001135),\n",
       " ('Freedom_to_make_life_choices', 0.9312771201323474),\n",
       " ('Generosity', 0.7320881689095489),\n",
       " ('Perceptions_of_corruption', -0.31803401517632335),\n",
       " ('Positive_affect', 1.3287232523438437),\n",
       " ('Negative_affect', 1.0836885403135703)]"
      ]
     },
     "execution_count": 15,
     "metadata": {},
     "output_type": "execute_result"
    }
   ],
   "source": [
    "print(\"Intercept: \", model.intercept_)\n",
    "print(\"Coefficients:\")\n",
    "list(zip(X, model.coef_))"
   ]
  },
  {
   "cell_type": "markdown",
   "metadata": {},
   "source": [
    "##### Regression Equation: \n",
    " Happiness_Ladder = -3.41 +(0.32*Log_GDP_percapita)+(2.37*Social_support)+(0.034*Healthy _life_expectancy_at_birth)+ (0.93*Freedom_to_make_life_choices)+(0.73*Generosity)+(-0.32*Perceptions_of_corruption)+(1.33*Positive_affect)+(1.08*Negative_affect) + e"
   ]
  },
  {
   "cell_type": "code",
   "execution_count": 19,
   "metadata": {},
   "outputs": [
    {
     "name": "stdout",
     "output_type": "stream",
     "text": [
      "Prediction for test set: [5.166 5.023 7.028 6.229 4.550 4.145 4.610 5.647 4.628 7.110 7.014 5.665\n",
      " 5.576 5.155 4.892 7.049 4.958 6.383 5.785 5.818 6.000 6.010 6.283 4.553\n",
      " 5.645 5.335 5.651 5.638 5.712 6.027 7.036 4.493 5.077 6.766 3.822 6.826\n",
      " 5.726]\n"
     ]
    }
   ],
   "source": [
    "y_pred = model.predict(X_test)\n",
    "print(\"Prediction for test set: {}\".format(y_pred))"
   ]
  },
  {
   "cell_type": "code",
   "execution_count": 31,
   "metadata": {},
   "outputs": [
    {
     "data": {
      "text/html": [
       "<div>\n",
       "<style scoped>\n",
       "    .dataframe tbody tr th:only-of-type {\n",
       "        vertical-align: middle;\n",
       "    }\n",
       "\n",
       "    .dataframe tbody tr th {\n",
       "        vertical-align: top;\n",
       "    }\n",
       "\n",
       "    .dataframe thead th {\n",
       "        text-align: right;\n",
       "    }\n",
       "</style>\n",
       "<table border=\"1\" class=\"dataframe\">\n",
       "  <thead>\n",
       "    <tr style=\"text-align: right;\">\n",
       "      <th></th>\n",
       "      <th>Prediction</th>\n",
       "      <th>Actual</th>\n",
       "    </tr>\n",
       "  </thead>\n",
       "  <tbody>\n",
       "    <tr>\n",
       "      <th>0</th>\n",
       "      <td>5.166230</td>\n",
       "      <td>5.234</td>\n",
       "    </tr>\n",
       "    <tr>\n",
       "      <th>1</th>\n",
       "      <td>5.022636</td>\n",
       "      <td>4.737</td>\n",
       "    </tr>\n",
       "    <tr>\n",
       "      <th>2</th>\n",
       "      <td>7.027508</td>\n",
       "      <td>7.476</td>\n",
       "    </tr>\n",
       "    <tr>\n",
       "      <th>3</th>\n",
       "      <td>6.228747</td>\n",
       "      <td>6.568</td>\n",
       "    </tr>\n",
       "    <tr>\n",
       "      <th>4</th>\n",
       "      <td>4.549627</td>\n",
       "      <td>5.322</td>\n",
       "    </tr>\n",
       "  </tbody>\n",
       "</table>\n",
       "</div>"
      ],
      "text/plain": [
       "   Prediction  Actual\n",
       "0    5.166230   5.234\n",
       "1    5.022636   4.737\n",
       "2    7.027508   7.476\n",
       "3    6.228747   6.568\n",
       "4    4.549627   5.322"
      ]
     },
     "execution_count": 31,
     "metadata": {},
     "output_type": "execute_result"
    }
   ],
   "source": [
    "results = pd.DataFrame({\"Prediction\": y_pred, \"Actual\": y_test}).reset_index(drop=True)\n",
    "results.head()"
   ]
  },
  {
   "cell_type": "markdown",
   "metadata": {},
   "source": [
    "#### Model Evaluation:"
   ]
  },
  {
   "cell_type": "code",
   "execution_count": 21,
   "metadata": {},
   "outputs": [
    {
     "name": "stdout",
     "output_type": "stream",
     "text": [
      "R-squared: (R2) 76.099\n",
      "Mean Absolute Error: 0.425\n",
      "Mean Square Error:(MSE) 0.283\n",
      "Root Mean Square Error:0.532\n",
      "Model Intercept:-3.407\n",
      "Model coefficients: [0.318 2.368 0.034 0.931 0.732 -0.318 1.329 1.084]\n"
     ]
    }
   ],
   "source": [
    "#Model Evaluation\n",
    "from sklearn import metrics\n",
    "meanAbErr = metrics.mean_absolute_error(y_test, y_pred)\n",
    "meanSqErr = metrics.mean_squared_error(y_test, y_pred)\n",
    "rootMeanSqErr = np.sqrt(metrics.mean_squared_error(y_test, y_pred))\n",
    "\n",
    "print('R-squared: (R2) {:.3f}'.format(model.score(X,y)*100))\n",
    "print('Mean Absolute Error: {:.3f}'.format(meanAbErr))\n",
    "print('Mean Square Error:(MSE) {:.3f}'.format(meanSqErr))\n",
    "print('Root Mean Square Error:{:.3f}'.format(rootMeanSqErr))\n",
    "print('Model Intercept:{:.3f}'.format(model.intercept_))\n",
    "print('Model coefficients:', model.coef_)"
   ]
  },
  {
   "cell_type": "markdown",
   "metadata": {},
   "source": [
    "## Result interpretation:\n",
    "#### <ins><b> R squared:</b></ins> Coefficient of determination: Shows how many points fall on the regression line. Here the value is 75.90%\n",
    "#### <ins><b> Mean Absolute Error:</b></ins> Absolute difference between the actual and the predicted values, 0.44 is close to 0, which is good\n",
    "#### <ins><b> Mean Square Error:</b></ins> descibes how close a regression line is to a set of points, by taking the distances from the point to the regression line and squaring them, 0.32 is close to 0, which indicates the model performance is good\n",
    "\n",
    "#### <ins><b> Root Mean Square Error:</b></ins> is an applied measure of the differences between numbers(population values and samples) which is predicted by an estimator. It describes the sample standard deviation of the differences between the predicted and observed values. 0.57 means that the model's performance is good\n"
   ]
  },
  {
   "cell_type": "markdown",
   "metadata": {
    "slideshow": {
     "slide_type": "slide"
    }
   },
   "source": [
    "## Residuals"
   ]
  },
  {
   "cell_type": "markdown",
   "metadata": {
    "slideshow": {
     "slide_type": "fragment"
    }
   },
   "source": [
    "Because we can't easily plot our line in 3D space, we can use a residual plot to check our predictions."
   ]
  },
  {
   "cell_type": "markdown",
   "metadata": {
    "slideshow": {
     "slide_type": "fragment"
    }
   },
   "source": [
    "Residuals are the difference between the true values of y and the predicted values of y.\n",
    "\n",
    "Source: [Interpreting Residual Plots](http://docs.statwing.com/interpreting-residual-plots-to-improve-your-regression/)"
   ]
  },
  {
   "cell_type": "code",
   "execution_count": 40,
   "metadata": {
    "slideshow": {
     "slide_type": "subslide"
    }
   },
   "outputs": [
    {
     "data": {
      "image/png": "[encoded data removed]",
      "text/plain": [
       "<Figure size 432x288 with 1 Axes>"
      ]
     },
     "metadata": {
      "needs_background": "light"
     },
     "output_type": "display_data"
    }
   ],
   "source": [
    "predictions = model.predict(X)\n",
    "# Plot Residuals\n",
    "plt.scatter(predictions, predictions - y)\n",
    "plt.hlines(y=0, xmin=predictions.min(), xmax=predictions.max(), color='red')\n",
    "plt.show()"
   ]
  },
  {
   "cell_type": "markdown",
   "metadata": {
    "slideshow": {
     "slide_type": "fragment"
    }
   },
   "source": [
    "We want our predictions to be close to zero on the y-axis in this plot."
   ]
  },
  {
   "cell_type": "markdown",
   "metadata": {},
   "source": [
    "### Try the model with real input data to predict the Life_Ladder score:"
   ]
  },
  {
   "cell_type": "code",
   "execution_count": 34,
   "metadata": {},
   "outputs": [],
   "source": [
    "# Format the any numpy array to 3 decimal points\n",
    "np.set_printoptions(formatter={'float':\"{0:0.3f}\".format})\n",
    "\n",
    "# Try the model with feature values where we know the output\n",
    "user_input=np.array([7.647,0.539,51.6,0.6,0.121,0.707,0.618,0.275])\n",
    "\n",
    "user_input=user_input.reshape(1,-1)"
   ]
  },
  {
   "cell_type": "code",
   "execution_count": 35,
   "metadata": {},
   "outputs": [
    {
     "data": {
      "text/plain": [
       "(1, 8)"
      ]
     },
     "execution_count": 35,
     "metadata": {},
     "output_type": "execute_result"
    }
   ],
   "source": [
    "user_input.shape"
   ]
  },
  {
   "cell_type": "code",
   "execution_count": 36,
   "metadata": {},
   "outputs": [
    {
     "data": {
      "text/plain": [
       "array([3.608])"
      ]
     },
     "execution_count": 36,
     "metadata": {},
     "output_type": "execute_result"
    }
   ],
   "source": [
    "user_predict=model.predict(user_input)\n",
    "user_predict"
   ]
  },
  {
   "cell_type": "code",
   "execution_count": 38,
   "metadata": {},
   "outputs": [
    {
     "name": "stdout",
     "output_type": "stream",
     "text": [
      "The real Life_Ladder is 4.758, compared to the predicted Life_Ladder: [3.608]\n"
     ]
    }
   ],
   "source": [
    "# checking the model against a Life_Ladder score that is known:\n",
    "print(f'The real Life_Ladder is 4.758, compared to the predicted Life_Ladder: {user_predict}')"
   ]
  }
 ],
 "metadata": {
  "anaconda-cloud": {},
  "kernelspec": {
   "display_name": "mlenv",
   "language": "python",
   "name": "mlenv"
  },
  "language_info": {
   "codemirror_mode": {
    "name": "ipython",
    "version": 3
   },
   "file_extension": ".py",
   "mimetype": "text/x-python",
   "name": "python",
   "nbconvert_exporter": "python",
   "pygments_lexer": "ipython3",
   "version": "3.7.10"
  },
  "varInspector": {
   "cols": {
    "lenName": 16,
    "lenType": 16,
    "lenVar": 40
   },
   "kernels_config": {
    "python": {
     "delete_cmd_postfix": "",
     "delete_cmd_prefix": "del ",
     "library": "var_list.py",
     "varRefreshCmd": "print(var_dic_list())"
    },
    "r": {
     "delete_cmd_postfix": ") ",
     "delete_cmd_prefix": "rm(",
     "library": "var_list.r",
     "varRefreshCmd": "cat(var_dic_list()) "
    }
   },
   "types_to_exclude": [
    "module",
    "function",
    "builtin_function_or_method",
    "instance",
    "_Feature"
   ],
   "window_display": false
  }
 },
 "nbformat": 4,
 "nbformat_minor": 2
}
