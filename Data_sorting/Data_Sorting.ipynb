{
 "cells": [
  {
   "cell_type": "markdown",
   "id": "0480b77a",
   "metadata": {},
   "source": [
    "### Overview:\n",
    "This file is taking the full dataset 'DataPanelWHR2021C2.xls', & sorting it based on each year.\n",
    "The sorted datasets are than saved into an Excel file 'DataPanelWHR2021C2_sorted_by_year.xlsx',\n",
    "where each year is saved in it's corresponding tab.\n",
    "Since, we can't save a csv file with tabs, steps have also been taken to save each tab as it's own csv file\n",
    "In order to be able to use this dataset for mapping purposes, some country names have been modifies to correspond to that country name in https://raw.githubusercontent.com/python-visualization/folium/master/examples/data/world-countries.json\n",
    "For example, 'United States' has been changes to 'United States of America'."
   ]
  },
  {
   "cell_type": "code",
   "execution_count": 1,
   "id": "1fdb4210",
   "metadata": {},
   "outputs": [],
   "source": [
    "import pandas as pd\n",
    "import numpy as np\n",
    "from pathlib import Path"
   ]
  },
  {
   "cell_type": "code",
   "execution_count": 2,
   "id": "a02d6d98",
   "metadata": {},
   "outputs": [
    {
     "data": {
      "text/html": [
       "<div>\n",
       "<style scoped>\n",
       "    .dataframe tbody tr th:only-of-type {\n",
       "        vertical-align: middle;\n",
       "    }\n",
       "\n",
       "    .dataframe tbody tr th {\n",
       "        vertical-align: top;\n",
       "    }\n",
       "\n",
       "    .dataframe thead th {\n",
       "        text-align: right;\n",
       "    }\n",
       "</style>\n",
       "<table border=\"1\" class=\"dataframe\">\n",
       "  <thead>\n",
       "    <tr style=\"text-align: right;\">\n",
       "      <th></th>\n",
       "      <th>Country name</th>\n",
       "      <th>year</th>\n",
       "      <th>Life Ladder</th>\n",
       "      <th>Log GDP per capita</th>\n",
       "      <th>Social support</th>\n",
       "      <th>Healthy life expectancy at birth</th>\n",
       "      <th>Freedom to make life choices</th>\n",
       "      <th>Generosity</th>\n",
       "      <th>Perceptions of corruption</th>\n",
       "      <th>Positive affect</th>\n",
       "      <th>Negative affect</th>\n",
       "    </tr>\n",
       "  </thead>\n",
       "  <tbody>\n",
       "    <tr>\n",
       "      <th>0</th>\n",
       "      <td>Afghanistan</td>\n",
       "      <td>2008</td>\n",
       "      <td>3.724</td>\n",
       "      <td>7.370</td>\n",
       "      <td>0.451</td>\n",
       "      <td>50.80</td>\n",
       "      <td>0.718</td>\n",
       "      <td>0.168</td>\n",
       "      <td>0.882</td>\n",
       "      <td>0.518</td>\n",
       "      <td>0.258</td>\n",
       "    </tr>\n",
       "    <tr>\n",
       "      <th>1</th>\n",
       "      <td>Afghanistan</td>\n",
       "      <td>2009</td>\n",
       "      <td>4.402</td>\n",
       "      <td>7.540</td>\n",
       "      <td>0.552</td>\n",
       "      <td>51.20</td>\n",
       "      <td>0.679</td>\n",
       "      <td>0.190</td>\n",
       "      <td>0.850</td>\n",
       "      <td>0.584</td>\n",
       "      <td>0.237</td>\n",
       "    </tr>\n",
       "    <tr>\n",
       "      <th>2</th>\n",
       "      <td>Afghanistan</td>\n",
       "      <td>2010</td>\n",
       "      <td>4.758</td>\n",
       "      <td>7.647</td>\n",
       "      <td>0.539</td>\n",
       "      <td>51.60</td>\n",
       "      <td>0.600</td>\n",
       "      <td>0.121</td>\n",
       "      <td>0.707</td>\n",
       "      <td>0.618</td>\n",
       "      <td>0.275</td>\n",
       "    </tr>\n",
       "    <tr>\n",
       "      <th>3</th>\n",
       "      <td>Afghanistan</td>\n",
       "      <td>2011</td>\n",
       "      <td>3.832</td>\n",
       "      <td>7.620</td>\n",
       "      <td>0.521</td>\n",
       "      <td>51.92</td>\n",
       "      <td>0.496</td>\n",
       "      <td>0.162</td>\n",
       "      <td>0.731</td>\n",
       "      <td>0.611</td>\n",
       "      <td>0.267</td>\n",
       "    </tr>\n",
       "    <tr>\n",
       "      <th>4</th>\n",
       "      <td>Afghanistan</td>\n",
       "      <td>2012</td>\n",
       "      <td>3.783</td>\n",
       "      <td>7.705</td>\n",
       "      <td>0.521</td>\n",
       "      <td>52.24</td>\n",
       "      <td>0.531</td>\n",
       "      <td>0.236</td>\n",
       "      <td>0.776</td>\n",
       "      <td>0.710</td>\n",
       "      <td>0.268</td>\n",
       "    </tr>\n",
       "  </tbody>\n",
       "</table>\n",
       "</div>"
      ],
      "text/plain": [
       "  Country name  year  Life Ladder  Log GDP per capita  Social support  \\\n",
       "0  Afghanistan  2008        3.724               7.370           0.451   \n",
       "1  Afghanistan  2009        4.402               7.540           0.552   \n",
       "2  Afghanistan  2010        4.758               7.647           0.539   \n",
       "3  Afghanistan  2011        3.832               7.620           0.521   \n",
       "4  Afghanistan  2012        3.783               7.705           0.521   \n",
       "\n",
       "   Healthy life expectancy at birth  Freedom to make life choices  Generosity  \\\n",
       "0                             50.80                         0.718       0.168   \n",
       "1                             51.20                         0.679       0.190   \n",
       "2                             51.60                         0.600       0.121   \n",
       "3                             51.92                         0.496       0.162   \n",
       "4                             52.24                         0.531       0.236   \n",
       "\n",
       "   Perceptions of corruption  Positive affect  Negative affect  \n",
       "0                      0.882            0.518            0.258  \n",
       "1                      0.850            0.584            0.237  \n",
       "2                      0.707            0.618            0.275  \n",
       "3                      0.731            0.611            0.267  \n",
       "4                      0.776            0.710            0.268  "
      ]
     },
     "execution_count": 2,
     "metadata": {},
     "output_type": "execute_result"
    }
   ],
   "source": [
    "file = '../Data/DataPanelWHR2021C2.csv'\n",
    "df = pd.read_csv(file)\n",
    "df.head()"
   ]
  },
  {
   "cell_type": "code",
   "execution_count": 3,
   "id": "3f3cbcda",
   "metadata": {},
   "outputs": [
    {
     "data": {
      "text/plain": [
       "Country name                        1949\n",
       "year                                1949\n",
       "Life Ladder                         1949\n",
       "Log GDP per capita                  1913\n",
       "Social support                      1936\n",
       "Healthy life expectancy at birth    1894\n",
       "Freedom to make life choices        1917\n",
       "Generosity                          1860\n",
       "Perceptions of corruption           1839\n",
       "Positive affect                     1927\n",
       "Negative affect                     1933\n",
       "dtype: int64"
      ]
     },
     "execution_count": 3,
     "metadata": {},
     "output_type": "execute_result"
    }
   ],
   "source": [
    "# check the data\n",
    "df.count()"
   ]
  },
  {
   "cell_type": "code",
   "execution_count": 4,
   "id": "01ece6b2",
   "metadata": {},
   "outputs": [
    {
     "data": {
      "text/plain": [
       "Country name                          0\n",
       "year                                  0\n",
       "Life Ladder                           0\n",
       "Log GDP per capita                   36\n",
       "Social support                       13\n",
       "Healthy life expectancy at birth     55\n",
       "Freedom to make life choices         32\n",
       "Generosity                           89\n",
       "Perceptions of corruption           110\n",
       "Positive affect                      22\n",
       "Negative affect                      16\n",
       "dtype: int64"
      ]
     },
     "execution_count": 4,
     "metadata": {},
     "output_type": "execute_result"
    }
   ],
   "source": [
    "# Check for empty rows\n",
    "df.isnull().sum()"
   ]
  },
  {
   "cell_type": "code",
   "execution_count": 5,
   "id": "c5fad14d",
   "metadata": {},
   "outputs": [],
   "source": [
    "# Delet empty rows \n",
    "df.dropna(inplace=True)\n",
    "\n"
   ]
  },
  {
   "cell_type": "code",
   "execution_count": 6,
   "id": "78cb259a",
   "metadata": {},
   "outputs": [
    {
     "data": {
      "text/plain": [
       "Country name                        0\n",
       "year                                0\n",
       "Life Ladder                         0\n",
       "Log GDP per capita                  0\n",
       "Social support                      0\n",
       "Healthy life expectancy at birth    0\n",
       "Freedom to make life choices        0\n",
       "Generosity                          0\n",
       "Perceptions of corruption           0\n",
       "Positive affect                     0\n",
       "Negative affect                     0\n",
       "dtype: int64"
      ]
     },
     "execution_count": 6,
     "metadata": {},
     "output_type": "execute_result"
    }
   ],
   "source": [
    "\n",
    "df.isnull().sum()"
   ]
  },
  {
   "cell_type": "code",
   "execution_count": 7,
   "id": "c215469e",
   "metadata": {},
   "outputs": [
    {
     "data": {
      "text/plain": [
       "Country name                         object\n",
       "year                                  int64\n",
       "Life Ladder                         float64\n",
       "Log GDP per capita                  float64\n",
       "Social support                      float64\n",
       "Healthy life expectancy at birth    float64\n",
       "Freedom to make life choices        float64\n",
       "Generosity                          float64\n",
       "Perceptions of corruption           float64\n",
       "Positive affect                     float64\n",
       "Negative affect                     float64\n",
       "dtype: object"
      ]
     },
     "execution_count": 7,
     "metadata": {},
     "output_type": "execute_result"
    }
   ],
   "source": [
    "df.dtypes"
   ]
  },
  {
   "cell_type": "code",
   "execution_count": 8,
   "id": "092d4a73",
   "metadata": {},
   "outputs": [],
   "source": [
    "# filter the data by year\n",
    "df_2008=df[df['year']==2008]\n",
    "df_2009=df[df['year']==2009]\n",
    "df_2010=df[df['year']==2010]\n",
    "df_2011=df[df['year']==2011]\n",
    "df_2012=df[df['year']==2012]\n",
    "df_2013=df[df['year']==2013]\n",
    "df_2014=df[df['year']==2014]\n",
    "df_2015=df[df['year']==2015]\n",
    "df_2016=df[df['year']==2016]\n",
    "df_2017=df[df['year']==2017]\n",
    "df_2018=df[df['year']==2018]\n",
    "df_2019=df[df['year']==2019]\n",
    "df_2020=df[df['year']==2020]"
   ]
  },
  {
   "cell_type": "code",
   "execution_count": 9,
   "id": "6bce91cb",
   "metadata": {},
   "outputs": [
    {
     "data": {
      "text/html": [
       "<div>\n",
       "<style scoped>\n",
       "    .dataframe tbody tr th:only-of-type {\n",
       "        vertical-align: middle;\n",
       "    }\n",
       "\n",
       "    .dataframe tbody tr th {\n",
       "        vertical-align: top;\n",
       "    }\n",
       "\n",
       "    .dataframe thead th {\n",
       "        text-align: right;\n",
       "    }\n",
       "</style>\n",
       "<table border=\"1\" class=\"dataframe\">\n",
       "  <thead>\n",
       "    <tr style=\"text-align: right;\">\n",
       "      <th></th>\n",
       "      <th>Country name</th>\n",
       "      <th>year</th>\n",
       "      <th>Life Ladder</th>\n",
       "      <th>Log GDP per capita</th>\n",
       "      <th>Social support</th>\n",
       "      <th>Healthy life expectancy at birth</th>\n",
       "      <th>Freedom to make life choices</th>\n",
       "      <th>Generosity</th>\n",
       "      <th>Perceptions of corruption</th>\n",
       "      <th>Positive affect</th>\n",
       "      <th>Negative affect</th>\n",
       "    </tr>\n",
       "  </thead>\n",
       "  <tbody>\n",
       "    <tr>\n",
       "      <th>0</th>\n",
       "      <td>Afghanistan</td>\n",
       "      <td>2008</td>\n",
       "      <td>3.724</td>\n",
       "      <td>7.370</td>\n",
       "      <td>0.451</td>\n",
       "      <td>50.80</td>\n",
       "      <td>0.718</td>\n",
       "      <td>0.168</td>\n",
       "      <td>0.882</td>\n",
       "      <td>0.518</td>\n",
       "      <td>0.258</td>\n",
       "    </tr>\n",
       "    <tr>\n",
       "      <th>39</th>\n",
       "      <td>Argentina</td>\n",
       "      <td>2008</td>\n",
       "      <td>5.961</td>\n",
       "      <td>10.048</td>\n",
       "      <td>0.892</td>\n",
       "      <td>67.06</td>\n",
       "      <td>0.678</td>\n",
       "      <td>-0.132</td>\n",
       "      <td>0.865</td>\n",
       "      <td>0.823</td>\n",
       "      <td>0.318</td>\n",
       "    </tr>\n",
       "    <tr>\n",
       "      <th>54</th>\n",
       "      <td>Armenia</td>\n",
       "      <td>2008</td>\n",
       "      <td>4.652</td>\n",
       "      <td>9.256</td>\n",
       "      <td>0.709</td>\n",
       "      <td>65.00</td>\n",
       "      <td>0.462</td>\n",
       "      <td>-0.215</td>\n",
       "      <td>0.876</td>\n",
       "      <td>0.521</td>\n",
       "      <td>0.385</td>\n",
       "    </tr>\n",
       "    <tr>\n",
       "      <th>68</th>\n",
       "      <td>Australia</td>\n",
       "      <td>2008</td>\n",
       "      <td>7.254</td>\n",
       "      <td>10.719</td>\n",
       "      <td>0.947</td>\n",
       "      <td>71.88</td>\n",
       "      <td>0.916</td>\n",
       "      <td>0.305</td>\n",
       "      <td>0.431</td>\n",
       "      <td>0.826</td>\n",
       "      <td>0.218</td>\n",
       "    </tr>\n",
       "    <tr>\n",
       "      <th>81</th>\n",
       "      <td>Austria</td>\n",
       "      <td>2008</td>\n",
       "      <td>7.181</td>\n",
       "      <td>10.887</td>\n",
       "      <td>0.935</td>\n",
       "      <td>71.08</td>\n",
       "      <td>0.879</td>\n",
       "      <td>0.291</td>\n",
       "      <td>0.614</td>\n",
       "      <td>0.832</td>\n",
       "      <td>0.173</td>\n",
       "    </tr>\n",
       "  </tbody>\n",
       "</table>\n",
       "</div>"
      ],
      "text/plain": [
       "   Country name  year  Life Ladder  Log GDP per capita  Social support  \\\n",
       "0   Afghanistan  2008        3.724               7.370           0.451   \n",
       "39    Argentina  2008        5.961              10.048           0.892   \n",
       "54      Armenia  2008        4.652               9.256           0.709   \n",
       "68    Australia  2008        7.254              10.719           0.947   \n",
       "81      Austria  2008        7.181              10.887           0.935   \n",
       "\n",
       "    Healthy life expectancy at birth  Freedom to make life choices  \\\n",
       "0                              50.80                         0.718   \n",
       "39                             67.06                         0.678   \n",
       "54                             65.00                         0.462   \n",
       "68                             71.88                         0.916   \n",
       "81                             71.08                         0.879   \n",
       "\n",
       "    Generosity  Perceptions of corruption  Positive affect  Negative affect  \n",
       "0        0.168                      0.882            0.518            0.258  \n",
       "39      -0.132                      0.865            0.823            0.318  \n",
       "54      -0.215                      0.876            0.521            0.385  \n",
       "68       0.305                      0.431            0.826            0.218  \n",
       "81       0.291                      0.614            0.832            0.173  "
      ]
     },
     "execution_count": 9,
     "metadata": {},
     "output_type": "execute_result"
    }
   ],
   "source": [
    "df_2008.head()"
   ]
  },
  {
   "cell_type": "code",
   "execution_count": 10,
   "id": "d1d98493",
   "metadata": {},
   "outputs": [],
   "source": [
    "# Since it is not possible to save a file with multiple tabs as csv, we will save it as .xlsx \n",
    "# Save the sorted data by year to one excel sheet\n",
    "with pd.ExcelWriter('DataPanelWHR2021C2_sorted_by_year.xlsx') as writer:\n",
    "    df_2008.to_excel(writer, sheet_name='2008', index=False)\n",
    "    df_2009.to_excel(writer, sheet_name='2009', index=False)\n",
    "    df_2010.to_excel(writer, sheet_name='2010', index=False)\n",
    "    df_2011.to_excel(writer, sheet_name='2011', index=False)\n",
    "    df_2012.to_excel(writer, sheet_name='2012', index=False)\n",
    "    df_2013.to_excel(writer, sheet_name='2013', index=False)\n",
    "    df_2014.to_excel(writer, sheet_name='2014', index=False)\n",
    "    df_2015.to_excel(writer, sheet_name='2015', index=False)\n",
    "    df_2016.to_excel(writer, sheet_name='2016', index=False)\n",
    "    df_2017.to_excel(writer, sheet_name='2017', index=False)\n",
    "    df_2018.to_excel(writer, sheet_name='2018', index=False)\n",
    "    df_2019.to_excel(writer, sheet_name='2019', index=False)\n",
    "    df_2020.to_excel(writer, sheet_name='2020', index=False)"
   ]
  },
  {
   "cell_type": "code",
   "execution_count": 11,
   "id": "c3098425",
   "metadata": {},
   "outputs": [],
   "source": [
    "# passing `sheet_name=None` returns a dictionary \n",
    "# with the form {sheet_name: dataframe}\n",
    "data = pd.read_excel('DataPanelWHR2021C2_sorted_by_year.xlsx', sheet_name=None)\n",
    "\n",
    "# loop through the dictionary and save csv, note that this will save each tab as a csv file on its own\n",
    "for sheet_name, df in data.items():\n",
    "    df.to_csv(f'{sheet_name}.csv', index=False)"
   ]
  }
 ],
 "metadata": {
  "kernelspec": {
   "display_name": "mlenv",
   "language": "python",
   "name": "mlenv"
  },
  "language_info": {
   "codemirror_mode": {
    "name": "ipython",
    "version": 3
   },
   "file_extension": ".py",
   "mimetype": "text/x-python",
   "name": "python",
   "nbconvert_exporter": "python",
   "pygments_lexer": "ipython3",
   "version": "3.7.10"
  }
 },
 "nbformat": 4,
 "nbformat_minor": 5
}
